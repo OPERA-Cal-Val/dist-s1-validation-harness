{
 "cells": [
  {
   "cell_type": "code",
   "execution_count": 1,
   "metadata": {
    "editable": true,
    "slideshow": {
     "slide_type": ""
    },
    "tags": []
   },
   "outputs": [],
   "source": [
    "%matplotlib inline"
   ]
  },
  {
   "cell_type": "code",
   "execution_count": 2,
   "metadata": {
    "editable": true,
    "slideshow": {
     "slide_type": ""
    },
    "tags": []
   },
   "outputs": [],
   "source": [
    "import geopandas as gpd\n",
    "from dem_stitcher.geojson_io import read_geojson_gzip\n",
    "import pandas as pd\n",
    "from distmetrics import compute_mahalonobis_dist_2d\n",
    "import matplotlib.pyplot as plt\n",
    "import warnings\n",
    "import numpy as np\n",
    "import concurrent.futures\n",
    "import rasterio\n",
    "from pyproj import Transformer\n",
    "from rasterio.crs import CRS\n",
    "from tqdm import tqdm\n",
    "from pathlib import Path\n",
    "from val_io import get_burst_time_series_around_point"
   ]
  },
  {
   "cell_type": "markdown",
   "metadata": {
    "editable": true,
    "slideshow": {
     "slide_type": ""
    },
    "tags": []
   },
   "source": [
    "# Parameters"
   ]
  },
  {
   "cell_type": "code",
   "execution_count": 3,
   "metadata": {
    "editable": true,
    "slideshow": {
     "slide_type": ""
    },
    "tags": [
     "parameters"
    ]
   },
   "outputs": [],
   "source": [
    "SITE_ID = 150 #95\n",
    "IDX_BURST = 0 # should be 0 or 1 though 1 will not always work if there is only 1 burst for a site.\n",
    "LOOKBACK_LENGTH_DAYS = 365 \n",
    "LOOKBACK_WINDOW = 5"
   ]
  },
  {
   "cell_type": "markdown",
   "metadata": {
    "editable": true,
    "slideshow": {
     "slide_type": ""
    },
    "tags": []
   },
   "source": [
    "# Explore Sites - Interactive - Optional"
   ]
  },
  {
   "cell_type": "code",
   "execution_count": 4,
   "metadata": {
    "editable": true,
    "slideshow": {
     "slide_type": ""
    },
    "tags": []
   },
   "outputs": [
    {
     "data": {
      "text/html": [
       "<div>\n",
       "<style scoped>\n",
       "    .dataframe tbody tr th:only-of-type {\n",
       "        vertical-align: middle;\n",
       "    }\n",
       "\n",
       "    .dataframe tbody tr th {\n",
       "        vertical-align: top;\n",
       "    }\n",
       "\n",
       "    .dataframe thead th {\n",
       "        text-align: right;\n",
       "    }\n",
       "</style>\n",
       "<table border=\"1\" class=\"dataframe\">\n",
       "  <thead>\n",
       "    <tr style=\"text-align: right;\">\n",
       "      <th></th>\n",
       "      <th>site_id</th>\n",
       "      <th>change_label</th>\n",
       "      <th>change_type</th>\n",
       "      <th>change_time</th>\n",
       "      <th>last_observation_time</th>\n",
       "      <th>mgrs_tile_id</th>\n",
       "      <th>jpl_burst_id</th>\n",
       "      <th>geometry</th>\n",
       "    </tr>\n",
       "  </thead>\n",
       "  <tbody>\n",
       "    <tr>\n",
       "      <th>0</th>\n",
       "      <td>4</td>\n",
       "      <td>VLmaj</td>\n",
       "      <td>Fire</td>\n",
       "      <td>2021-11-07</td>\n",
       "      <td>2021-11-02</td>\n",
       "      <td>34NCL</td>\n",
       "      <td>T036-076228-IW3</td>\n",
       "      <td>POINT (19.33289 4.57490)</td>\n",
       "    </tr>\n",
       "    <tr>\n",
       "      <th>1</th>\n",
       "      <td>13</td>\n",
       "      <td>VLmaj</td>\n",
       "      <td>Crop cycle change</td>\n",
       "      <td>2021-10-03</td>\n",
       "      <td>NaT</td>\n",
       "      <td>39STR</td>\n",
       "      <td>T108-230715-IW2</td>\n",
       "      <td>POINT (48.77698 31.75490)</td>\n",
       "    </tr>\n",
       "    <tr>\n",
       "      <th>2</th>\n",
       "      <td>13</td>\n",
       "      <td>VLmaj</td>\n",
       "      <td>Crop cycle change</td>\n",
       "      <td>2021-10-03</td>\n",
       "      <td>NaT</td>\n",
       "      <td>39STR</td>\n",
       "      <td>T101-214979-IW1</td>\n",
       "      <td>POINT (48.77698 31.75490)</td>\n",
       "    </tr>\n",
       "    <tr>\n",
       "      <th>3</th>\n",
       "      <td>22</td>\n",
       "      <td>VLmin</td>\n",
       "      <td>Natural browning</td>\n",
       "      <td>2021-12-19</td>\n",
       "      <td>2021-12-12</td>\n",
       "      <td>37SBV</td>\n",
       "      <td>T014-028130-IW2</td>\n",
       "      <td>POINT (36.61178 35.52891)</td>\n",
       "    </tr>\n",
       "    <tr>\n",
       "      <th>4</th>\n",
       "      <td>22</td>\n",
       "      <td>VLmin</td>\n",
       "      <td>Natural browning</td>\n",
       "      <td>2021-12-19</td>\n",
       "      <td>2021-12-12</td>\n",
       "      <td>37SBV</td>\n",
       "      <td>T021-043823-IW2</td>\n",
       "      <td>POINT (36.61178 35.52891)</td>\n",
       "    </tr>\n",
       "  </tbody>\n",
       "</table>\n",
       "</div>"
      ],
      "text/plain": [
       "   site_id change_label        change_type change_time last_observation_time  \\\n",
       "0        4        VLmaj               Fire  2021-11-07            2021-11-02   \n",
       "1       13        VLmaj  Crop cycle change  2021-10-03                   NaT   \n",
       "2       13        VLmaj  Crop cycle change  2021-10-03                   NaT   \n",
       "3       22        VLmin   Natural browning  2021-12-19            2021-12-12   \n",
       "4       22        VLmin   Natural browning  2021-12-19            2021-12-12   \n",
       "\n",
       "  mgrs_tile_id     jpl_burst_id                   geometry  \n",
       "0        34NCL  T036-076228-IW3   POINT (19.33289 4.57490)  \n",
       "1        39STR  T108-230715-IW2  POINT (48.77698 31.75490)  \n",
       "2        39STR  T101-214979-IW1  POINT (48.77698 31.75490)  \n",
       "3        37SBV  T014-028130-IW2  POINT (36.61178 35.52891)  \n",
       "4        37SBV  T021-043823-IW2  POINT (36.61178 35.52891)  "
      ]
     },
     "execution_count": 4,
     "metadata": {},
     "output_type": "execute_result"
    }
   ],
   "source": [
    "df_sites = gpd.read_file('data/val_sites_subset.geojson')\n",
    "df_sites.head()"
   ]
  },
  {
   "cell_type": "code",
   "execution_count": 5,
   "metadata": {
    "editable": true,
    "slideshow": {
     "slide_type": ""
    },
    "tags": []
   },
   "outputs": [],
   "source": [
    "#df_sites.drop(columns=['change_time', 'last_observation_time']).explore(categorical=True, column='change_type', legend=True, marker_kwds={'radius':10})"
   ]
  },
  {
   "cell_type": "code",
   "execution_count": 6,
   "metadata": {
    "editable": true,
    "slideshow": {
     "slide_type": ""
    },
    "tags": []
   },
   "outputs": [
    {
     "data": {
      "text/html": [
       "<div>\n",
       "<style scoped>\n",
       "    .dataframe tbody tr th:only-of-type {\n",
       "        vertical-align: middle;\n",
       "    }\n",
       "\n",
       "    .dataframe tbody tr th {\n",
       "        vertical-align: top;\n",
       "    }\n",
       "\n",
       "    .dataframe thead th {\n",
       "        text-align: right;\n",
       "    }\n",
       "</style>\n",
       "<table border=\"1\" class=\"dataframe\">\n",
       "  <thead>\n",
       "    <tr style=\"text-align: right;\">\n",
       "      <th></th>\n",
       "      <th>site_id</th>\n",
       "      <th>change_label</th>\n",
       "      <th>change_type</th>\n",
       "      <th>change_time</th>\n",
       "      <th>last_observation_time</th>\n",
       "      <th>mgrs_tile_id</th>\n",
       "      <th>jpl_burst_id</th>\n",
       "      <th>geometry</th>\n",
       "    </tr>\n",
       "  </thead>\n",
       "  <tbody>\n",
       "    <tr>\n",
       "      <th>0</th>\n",
       "      <td>150</td>\n",
       "      <td>VLmin</td>\n",
       "      <td>Crop cycle change</td>\n",
       "      <td>2021-12-30</td>\n",
       "      <td>2021-12-12</td>\n",
       "      <td>30TYL</td>\n",
       "      <td>T030-062532-IW1</td>\n",
       "      <td>POINT (-0.50787 41.16128)</td>\n",
       "    </tr>\n",
       "    <tr>\n",
       "      <th>1</th>\n",
       "      <td>150</td>\n",
       "      <td>VLmin</td>\n",
       "      <td>Crop cycle change</td>\n",
       "      <td>2021-12-30</td>\n",
       "      <td>2021-12-12</td>\n",
       "      <td>30TYL</td>\n",
       "      <td>T008-015865-IW2</td>\n",
       "      <td>POINT (-0.50787 41.16128)</td>\n",
       "    </tr>\n",
       "  </tbody>\n",
       "</table>\n",
       "</div>"
      ],
      "text/plain": [
       "   site_id change_label        change_type change_time last_observation_time  \\\n",
       "0      150        VLmin  Crop cycle change  2021-12-30            2021-12-12   \n",
       "1      150        VLmin  Crop cycle change  2021-12-30            2021-12-12   \n",
       "\n",
       "  mgrs_tile_id     jpl_burst_id                   geometry  \n",
       "0        30TYL  T030-062532-IW1  POINT (-0.50787 41.16128)  \n",
       "1        30TYL  T008-015865-IW2  POINT (-0.50787 41.16128)  "
      ]
     },
     "execution_count": 6,
     "metadata": {},
     "output_type": "execute_result"
    }
   ],
   "source": [
    "df_site = df_sites[df_sites.site_id == SITE_ID].reset_index(drop=True)\n",
    "df_site"
   ]
  },
  {
   "cell_type": "markdown",
   "metadata": {
    "editable": true,
    "slideshow": {
     "slide_type": ""
    },
    "tags": []
   },
   "source": [
    "# Bursts"
   ]
  },
  {
   "cell_type": "code",
   "execution_count": 7,
   "metadata": {
    "editable": true,
    "slideshow": {
     "slide_type": ""
    },
    "tags": []
   },
   "outputs": [
    {
     "data": {
      "text/html": [
       "<div>\n",
       "<style scoped>\n",
       "    .dataframe tbody tr th:only-of-type {\n",
       "        vertical-align: middle;\n",
       "    }\n",
       "\n",
       "    .dataframe tbody tr th {\n",
       "        vertical-align: top;\n",
       "    }\n",
       "\n",
       "    .dataframe thead th {\n",
       "        text-align: right;\n",
       "    }\n",
       "</style>\n",
       "<table border=\"1\" class=\"dataframe\">\n",
       "  <thead>\n",
       "    <tr style=\"text-align: right;\">\n",
       "      <th></th>\n",
       "      <th>jpl_burst_id</th>\n",
       "      <th>geometry</th>\n",
       "      <th>n_acquisitions</th>\n",
       "      <th>site_id</th>\n",
       "    </tr>\n",
       "  </thead>\n",
       "  <tbody>\n",
       "    <tr>\n",
       "      <th>0</th>\n",
       "      <td>T005-008692-IW2</td>\n",
       "      <td>POLYGON ((-97.21446 17.86505, -97.21446 17.864...</td>\n",
       "      <td>104</td>\n",
       "      <td>72</td>\n",
       "    </tr>\n",
       "    <tr>\n",
       "      <th>1</th>\n",
       "      <td>T008-015865-IW2</td>\n",
       "      <td>POLYGON ((-1.50129 41.44183, -1.50130 41.44156...</td>\n",
       "      <td>101</td>\n",
       "      <td>150</td>\n",
       "    </tr>\n",
       "    <tr>\n",
       "      <th>2</th>\n",
       "      <td>T012-024584-IW1</td>\n",
       "      <td>POLYGON ((-103.78409 20.20832, -103.78409 20.2...</td>\n",
       "      <td>101</td>\n",
       "      <td>34</td>\n",
       "    </tr>\n",
       "    <tr>\n",
       "      <th>3</th>\n",
       "      <td>T014-028130-IW2</td>\n",
       "      <td>POLYGON ((37.01648 35.59545, 37.01649 35.59518...</td>\n",
       "      <td>100</td>\n",
       "      <td>22</td>\n",
       "    </tr>\n",
       "    <tr>\n",
       "      <th>4</th>\n",
       "      <td>T014-028131-IW2</td>\n",
       "      <td>POLYGON ((36.98085 35.76145, 36.98085 35.76118...</td>\n",
       "      <td>38</td>\n",
       "      <td>22</td>\n",
       "    </tr>\n",
       "  </tbody>\n",
       "</table>\n",
       "</div>"
      ],
      "text/plain": [
       "      jpl_burst_id                                           geometry  \\\n",
       "0  T005-008692-IW2  POLYGON ((-97.21446 17.86505, -97.21446 17.864...   \n",
       "1  T008-015865-IW2  POLYGON ((-1.50129 41.44183, -1.50130 41.44156...   \n",
       "2  T012-024584-IW1  POLYGON ((-103.78409 20.20832, -103.78409 20.2...   \n",
       "3  T014-028130-IW2  POLYGON ((37.01648 35.59545, 37.01649 35.59518...   \n",
       "4  T014-028131-IW2  POLYGON ((36.98085 35.76145, 36.98085 35.76118...   \n",
       "\n",
       "   n_acquisitions  site_id  \n",
       "0             104       72  \n",
       "1             101      150  \n",
       "2             101       34  \n",
       "3             100       22  \n",
       "4              38       22  "
      ]
     },
     "execution_count": 7,
     "metadata": {},
     "output_type": "execute_result"
    }
   ],
   "source": [
    "df_val_bursts = gpd.read_parquet('data/validation_bursts_v1_coverage_updated.parquet')\n",
    "df_val_bursts.head()"
   ]
  },
  {
   "cell_type": "code",
   "execution_count": 8,
   "metadata": {
    "editable": true,
    "slideshow": {
     "slide_type": ""
    },
    "tags": []
   },
   "outputs": [
    {
     "data": {
      "text/html": [
       "<div>\n",
       "<style scoped>\n",
       "    .dataframe tbody tr th:only-of-type {\n",
       "        vertical-align: middle;\n",
       "    }\n",
       "\n",
       "    .dataframe tbody tr th {\n",
       "        vertical-align: top;\n",
       "    }\n",
       "\n",
       "    .dataframe thead th {\n",
       "        text-align: right;\n",
       "    }\n",
       "</style>\n",
       "<table border=\"1\" class=\"dataframe\">\n",
       "  <thead>\n",
       "    <tr style=\"text-align: right;\">\n",
       "      <th></th>\n",
       "      <th>jpl_burst_id</th>\n",
       "      <th>geometry</th>\n",
       "      <th>n_acquisitions</th>\n",
       "      <th>site_id</th>\n",
       "    </tr>\n",
       "  </thead>\n",
       "  <tbody>\n",
       "    <tr>\n",
       "      <th>0</th>\n",
       "      <td>T008-015865-IW2</td>\n",
       "      <td>POLYGON ((-1.50129 41.44183, -1.50130 41.44156...</td>\n",
       "      <td>101</td>\n",
       "      <td>150</td>\n",
       "    </tr>\n",
       "    <tr>\n",
       "      <th>1</th>\n",
       "      <td>T030-062532-IW1</td>\n",
       "      <td>POLYGON ((-0.24530 41.23072, -0.24529 41.23045...</td>\n",
       "      <td>103</td>\n",
       "      <td>150</td>\n",
       "    </tr>\n",
       "  </tbody>\n",
       "</table>\n",
       "</div>"
      ],
      "text/plain": [
       "      jpl_burst_id                                           geometry  \\\n",
       "0  T008-015865-IW2  POLYGON ((-1.50129 41.44183, -1.50130 41.44156...   \n",
       "1  T030-062532-IW1  POLYGON ((-0.24530 41.23072, -0.24529 41.23045...   \n",
       "\n",
       "   n_acquisitions  site_id  \n",
       "0             101      150  \n",
       "1             103      150  "
      ]
     },
     "execution_count": 8,
     "metadata": {},
     "output_type": "execute_result"
    }
   ],
   "source": [
    "df_bursts_for_site = df_val_bursts[df_val_bursts.jpl_burst_id.isin(df_site.jpl_burst_id)].reset_index(drop=True)\n",
    "df_bursts_for_site.head()"
   ]
  },
  {
   "cell_type": "markdown",
   "metadata": {
    "editable": true,
    "slideshow": {
     "slide_type": ""
    },
    "tags": []
   },
   "source": [
    "# RTC Data"
   ]
  },
  {
   "cell_type": "code",
   "execution_count": 9,
   "metadata": {
    "editable": true,
    "slideshow": {
     "slide_type": ""
    },
    "tags": []
   },
   "outputs": [],
   "source": [
    "BURST_ID = df_bursts_for_site.iloc[IDX_BURST].jpl_burst_id"
   ]
  },
  {
   "cell_type": "code",
   "execution_count": 10,
   "metadata": {
    "editable": true,
    "slideshow": {
     "slide_type": ""
    },
    "tags": []
   },
   "outputs": [
    {
     "data": {
      "text/html": [
       "<div>\n",
       "<style scoped>\n",
       "    .dataframe tbody tr th:only-of-type {\n",
       "        vertical-align: middle;\n",
       "    }\n",
       "\n",
       "    .dataframe tbody tr th {\n",
       "        vertical-align: top;\n",
       "    }\n",
       "\n",
       "    .dataframe thead th {\n",
       "        text-align: right;\n",
       "    }\n",
       "</style>\n",
       "<table border=\"1\" class=\"dataframe\">\n",
       "  <thead>\n",
       "    <tr style=\"text-align: right;\">\n",
       "      <th></th>\n",
       "      <th>rtc_s1_id</th>\n",
       "      <th>input_slc_id</th>\n",
       "      <th>jpl_burst_id</th>\n",
       "      <th>bursts_per_slc_input</th>\n",
       "      <th>rtc_s1_vv_url</th>\n",
       "      <th>rtc_s1_vh_url</th>\n",
       "      <th>rtc_s1_h5_url</th>\n",
       "      <th>acq_datetime</th>\n",
       "    </tr>\n",
       "  </thead>\n",
       "  <tbody>\n",
       "    <tr>\n",
       "      <th>0</th>\n",
       "      <td>OPERA_L2_RTC-S1_T008-015865-IW2_20201004T06091...</td>\n",
       "      <td>S1B_IW_SLC__1SDV_20201004T060915_20201004T0609...</td>\n",
       "      <td>T008-015865-IW2</td>\n",
       "      <td>27</td>\n",
       "      <td>https://opera-pst-rs-pop1.s3.us-west-2.amazona...</td>\n",
       "      <td>https://opera-pst-rs-pop1.s3.us-west-2.amazona...</td>\n",
       "      <td>https://opera-pst-rs-pop1.s3.us-west-2.amazona...</td>\n",
       "      <td>2020-10-04 06:09:15</td>\n",
       "    </tr>\n",
       "    <tr>\n",
       "      <th>1</th>\n",
       "      <td>OPERA_L2_RTC-S1_T008-015865-IW2_20201010T06095...</td>\n",
       "      <td>S1A_IW_SLC__1SDV_20201010T060937_20201010T0610...</td>\n",
       "      <td>T008-015865-IW2</td>\n",
       "      <td>27</td>\n",
       "      <td>https://opera-pst-rs-pop1.s3.us-west-2.amazona...</td>\n",
       "      <td>https://opera-pst-rs-pop1.s3.us-west-2.amazona...</td>\n",
       "      <td>https://opera-pst-rs-pop1.s3.us-west-2.amazona...</td>\n",
       "      <td>2020-10-10 06:09:37</td>\n",
       "    </tr>\n",
       "    <tr>\n",
       "      <th>2</th>\n",
       "      <td>OPERA_L2_RTC-S1_T008-015865-IW2_20201016T06091...</td>\n",
       "      <td>S1B_IW_SLC__1SDV_20201016T060915_20201016T0609...</td>\n",
       "      <td>T008-015865-IW2</td>\n",
       "      <td>27</td>\n",
       "      <td>https://opera-pst-rs-pop1.s3.us-west-2.amazona...</td>\n",
       "      <td>https://opera-pst-rs-pop1.s3.us-west-2.amazona...</td>\n",
       "      <td>https://opera-pst-rs-pop1.s3.us-west-2.amazona...</td>\n",
       "      <td>2020-10-16 06:09:15</td>\n",
       "    </tr>\n",
       "    <tr>\n",
       "      <th>3</th>\n",
       "      <td>OPERA_L2_RTC-S1_T008-015865-IW2_20201022T06095...</td>\n",
       "      <td>S1A_IW_SLC__1SDV_20201022T060937_20201022T0610...</td>\n",
       "      <td>T008-015865-IW2</td>\n",
       "      <td>27</td>\n",
       "      <td>https://opera-pst-rs-pop1.s3.us-west-2.amazona...</td>\n",
       "      <td>https://opera-pst-rs-pop1.s3.us-west-2.amazona...</td>\n",
       "      <td>https://opera-pst-rs-pop1.s3.us-west-2.amazona...</td>\n",
       "      <td>2020-10-22 06:09:37</td>\n",
       "    </tr>\n",
       "    <tr>\n",
       "      <th>4</th>\n",
       "      <td>OPERA_L2_RTC-S1_T008-015865-IW2_20201028T06091...</td>\n",
       "      <td>S1B_IW_SLC__1SDV_20201028T060915_20201028T0609...</td>\n",
       "      <td>T008-015865-IW2</td>\n",
       "      <td>27</td>\n",
       "      <td>https://opera-pst-rs-pop1.s3.us-west-2.amazona...</td>\n",
       "      <td>https://opera-pst-rs-pop1.s3.us-west-2.amazona...</td>\n",
       "      <td>https://opera-pst-rs-pop1.s3.us-west-2.amazona...</td>\n",
       "      <td>2020-10-28 06:09:15</td>\n",
       "    </tr>\n",
       "  </tbody>\n",
       "</table>\n",
       "</div>"
      ],
      "text/plain": [
       "                                           rtc_s1_id  \\\n",
       "0  OPERA_L2_RTC-S1_T008-015865-IW2_20201004T06091...   \n",
       "1  OPERA_L2_RTC-S1_T008-015865-IW2_20201010T06095...   \n",
       "2  OPERA_L2_RTC-S1_T008-015865-IW2_20201016T06091...   \n",
       "3  OPERA_L2_RTC-S1_T008-015865-IW2_20201022T06095...   \n",
       "4  OPERA_L2_RTC-S1_T008-015865-IW2_20201028T06091...   \n",
       "\n",
       "                                        input_slc_id     jpl_burst_id  \\\n",
       "0  S1B_IW_SLC__1SDV_20201004T060915_20201004T0609...  T008-015865-IW2   \n",
       "1  S1A_IW_SLC__1SDV_20201010T060937_20201010T0610...  T008-015865-IW2   \n",
       "2  S1B_IW_SLC__1SDV_20201016T060915_20201016T0609...  T008-015865-IW2   \n",
       "3  S1A_IW_SLC__1SDV_20201022T060937_20201022T0610...  T008-015865-IW2   \n",
       "4  S1B_IW_SLC__1SDV_20201028T060915_20201028T0609...  T008-015865-IW2   \n",
       "\n",
       "   bursts_per_slc_input                                      rtc_s1_vv_url  \\\n",
       "0                    27  https://opera-pst-rs-pop1.s3.us-west-2.amazona...   \n",
       "1                    27  https://opera-pst-rs-pop1.s3.us-west-2.amazona...   \n",
       "2                    27  https://opera-pst-rs-pop1.s3.us-west-2.amazona...   \n",
       "3                    27  https://opera-pst-rs-pop1.s3.us-west-2.amazona...   \n",
       "4                    27  https://opera-pst-rs-pop1.s3.us-west-2.amazona...   \n",
       "\n",
       "                                       rtc_s1_vh_url  \\\n",
       "0  https://opera-pst-rs-pop1.s3.us-west-2.amazona...   \n",
       "1  https://opera-pst-rs-pop1.s3.us-west-2.amazona...   \n",
       "2  https://opera-pst-rs-pop1.s3.us-west-2.amazona...   \n",
       "3  https://opera-pst-rs-pop1.s3.us-west-2.amazona...   \n",
       "4  https://opera-pst-rs-pop1.s3.us-west-2.amazona...   \n",
       "\n",
       "                                       rtc_s1_h5_url        acq_datetime  \n",
       "0  https://opera-pst-rs-pop1.s3.us-west-2.amazona... 2020-10-04 06:09:15  \n",
       "1  https://opera-pst-rs-pop1.s3.us-west-2.amazona... 2020-10-10 06:09:37  \n",
       "2  https://opera-pst-rs-pop1.s3.us-west-2.amazona... 2020-10-16 06:09:15  \n",
       "3  https://opera-pst-rs-pop1.s3.us-west-2.amazona... 2020-10-22 06:09:37  \n",
       "4  https://opera-pst-rs-pop1.s3.us-west-2.amazona... 2020-10-28 06:09:15  "
      ]
     },
     "execution_count": 10,
     "metadata": {},
     "output_type": "execute_result"
    }
   ],
   "source": [
    "df_rtc = pd.read_json('data/rtc_s1_table.json.zip')\n",
    "df_rtc_ts = df_rtc[df_rtc.jpl_burst_id == BURST_ID].reset_index(drop=True)\n",
    "df_rtc_ts['acq_datetime'] = pd.to_datetime(df_rtc_ts['acq_datetime'])\n",
    "df_rtc_ts.head()"
   ]
  },
  {
   "cell_type": "markdown",
   "metadata": {
    "editable": true,
    "slideshow": {
     "slide_type": ""
    },
    "tags": []
   },
   "source": [
    "# Load Data"
   ]
  },
  {
   "cell_type": "code",
   "execution_count": 11,
   "metadata": {
    "editable": true,
    "slideshow": {
     "slide_type": ""
    },
    "tags": []
   },
   "outputs": [],
   "source": [
    "geo = df_site.geometry[0]\n",
    "lon, lat = geo.x, geo.y"
   ]
  },
  {
   "cell_type": "code",
   "execution_count": 12,
   "metadata": {
    "editable": true,
    "slideshow": {
     "slide_type": ""
    },
    "tags": []
   },
   "outputs": [
    {
     "name": "stdout",
     "output_type": "stream",
     "text": [
      " "
     ]
    },
    {
     "data": {
      "application/vnd.jupyter.widget-view+json": {
       "model_id": "ce3992a17c9e414796cbc0e5aba6cad1",
       "version_major": 2,
       "version_minor": 0
      },
      "text/plain": [
       "  0%|     | 0/101 [00:00<?, ?it/s]"
      ]
     },
     "metadata": {},
     "output_type": "display_data"
    },
    {
     "name": "stdout",
     "output_type": "stream",
     "text": [
      "CPU times: user 383 ms, sys: 174 ms, total: 557 ms\n",
      "Wall time: 27.6 s\n"
     ]
    }
   ],
   "source": [
    "%%time\n",
    "\n",
    "vv_arrs = get_burst_time_series_around_point(df_rtc_ts.rtc_s1_vv_url.tolist(), lon, lat, window_size=3)"
   ]
  },
  {
   "cell_type": "code",
   "execution_count": null,
   "metadata": {
    "editable": true,
    "slideshow": {
     "slide_type": ""
    },
    "tags": []
   },
   "outputs": [
    {
     "data": {
      "application/vnd.jupyter.widget-view+json": {
       "model_id": "cf3925f1d5614601832a92ea4a3df729",
       "version_major": 2,
       "version_minor": 0
      },
      "text/plain": [
       "  0%|     | 0/101 [00:00<?, ?it/s]"
      ]
     },
     "metadata": {},
     "output_type": "display_data"
    },
    {
     "data": {
      "application/vnd.jupyter.widget-view+json": {
       "model_id": "5043a6a91b044312a0d5eca0bd7a3b12",
       "version_major": 2,
       "version_minor": 0
      },
      "text/plain": [
       "  0%|     | 0/101 [00:00<?, ?it/s]"
      ]
     },
     "metadata": {},
     "output_type": "display_data"
    }
   ],
   "source": [
    "%%time\n",
    "\n",
    "vh_arrs = get_burst_time_series_around_point(df_rtc_ts.rtc_s1_vh_url.tolist(), lon, lat)"
   ]
  },
  {
   "cell_type": "code",
   "execution_count": null,
   "metadata": {
    "editable": true,
    "slideshow": {
     "slide_type": ""
    },
    "tags": []
   },
   "outputs": [],
   "source": [
    "POL_RATIO_PLOT = False"
   ]
  },
  {
   "cell_type": "code",
   "execution_count": null,
   "metadata": {
    "editable": true,
    "slideshow": {
     "slide_type": ""
    },
    "tags": []
   },
   "outputs": [],
   "source": [
    "vh_c = [vh[1, 1] for vh in vh_arrs]\n",
    "vv_c = [vv[1, 1] for vv in vv_arrs]"
   ]
  },
  {
   "cell_type": "code",
   "execution_count": null,
   "metadata": {
    "editable": true,
    "slideshow": {
     "slide_type": ""
    },
    "tags": []
   },
   "outputs": [],
   "source": [
    "fig, ax1 = plt.subplots(figsize=(25, 5))\n",
    "ax1.plot(df_rtc_ts['acq_datetime'], vv_c, marker='o', color='tab:blue', label='vv_avg')\n",
    "ax1.set_xlabel('Datetime')\n",
    "ax1.set_ylabel('vv_avg', color='tab:blue')\n",
    "ax1.tick_params(axis='y', labelcolor='tab:blue')\n",
    "ax2 = ax1.twinx()\n",
    "ax2.plot(df_rtc_ts['acq_datetime'], vh_c, marker='v', color='tab:brown', label='vh center')\n",
    "ax2.set_ylabel('vh_avg', color='tab:brown')\n",
    "ax2.tick_params(axis='y', labelcolor='tab:brown')\n",
    "if POL_RATIO_PLOT:\n",
    "    ax3 = ax1.twinx()\n",
    "    ax3.spines['right'].set_position(('outward', 60))  \n",
    "    ax3.plot(df_rtc_ts_wind['datetime'], df_rtc_ts_wind['vv/vh_avg'], marker='P', color='tab:purple', label='vv/vh_avg')\n",
    "    ax3.set_ylabel('vv/vh_avg', color='tab:purple')\n",
    "    ax3.tick_params(axis='y', labelcolor='tab:purple')\n",
    "\n",
    "change_type = df_site.change_type.iloc[0]\n",
    "plt.title(f'Change type {change_type}; {BURST_ID=}; {SITE_ID=}')\n",
    "with warnings.catch_warnings():\n",
    "    warnings.simplefilter(\"ignore\", category=UserWarning)\n",
    "    ax1.set_xticks(df_rtc_ts['acq_datetime'].tolist())\n",
    "    ax1.set_xticklabels(df_rtc_ts['acq_datetime'].tolist(), rotation=90)\n",
    "\n",
    "ax1.grid(True)\n",
    "\n",
    "last_observed_time = df_site['last_observation_time'][0]\n",
    "\n",
    "if not isinstance(last_observed_time, type(pd.NaT)):\n",
    "    ax1.axvline(x=last_observed_time, color='b', linestyle='--', label=f'Last observation time ({last_observed_time})')\n",
    "ax2.legend(loc='upper left')\n",
    "\n",
    "change_time = df_site['change_time'][0]\n",
    "if not isinstance(change_time, type(pd.NaT)):\n",
    "    ax1.axvline(x=change_time, color='r', linestyle='--', label=f'Change time ({change_time})')\n",
    "ax1.legend()\n",
    "plt.show()"
   ]
  },
  {
   "cell_type": "markdown",
   "metadata": {
    "editable": true,
    "slideshow": {
     "slide_type": ""
    },
    "tags": []
   },
   "source": [
    "- Change \"accuracy\" - take 1 - if first changed observation occurs after \"last_observation_time\" and within 1 acquisition after \"change_time\" then that is \"perfect\" accuracy.\n",
    "- Change \"accuracy\" - take 2 - relaxed - if first changed observation occurs after last observation time or within a set time frame that is user defined.\n"
   ]
  },
  {
   "cell_type": "code",
   "execution_count": null,
   "metadata": {
    "editable": true,
    "slideshow": {
     "slide_type": ""
    },
    "tags": []
   },
   "outputs": [],
   "source": [
    "# df_site.drop(columns=['change_time', 'last_observation_time']).explore(categorical=True, column='change_type', legend=True, marker_kwds={'radius':10})"
   ]
  },
  {
   "cell_type": "markdown",
   "metadata": {
    "editable": true,
    "slideshow": {
     "slide_type": ""
    },
    "tags": []
   },
   "source": [
    "# Mahalanobis 1d Distance Running"
   ]
  },
  {
   "cell_type": "code",
   "execution_count": null,
   "metadata": {
    "editable": true,
    "slideshow": {
     "slide_type": ""
    },
    "tags": []
   },
   "outputs": [],
   "source": [
    "from distmetrics import compute_mahalonobis_dist_2d, compute_mahalonobis_dist_1d\n",
    "import numpy as np\n",
    "from tqdm import tqdm"
   ]
  },
  {
   "cell_type": "code",
   "execution_count": null,
   "metadata": {
    "editable": true,
    "slideshow": {
     "slide_type": ""
    },
    "tags": []
   },
   "outputs": [],
   "source": [
    "def window_mahalanobis_1d_running(window_data: list[np.ndarray], n_pre_img: int = 5):\n",
    "    N = len(window_data)\n",
    "    dists = [compute_mahalonobis_dist_1d(window_data[k- n_pre_img : k ], window_data[k]) if k > n_pre_img else None for k in tqdm(range(N))]\n",
    "    return dists\n",
    "dist_objs = window_mahalanobis_1d_running(vv_arrs)\n",
    "dist_vals = [d_obj.dist[1, 1] if d_obj is not None else np.nan for d_obj in dist_objs]\n",
    "dist_dts = [df_rtc_ts['acq_datetime'].tolist()[k] for (k, d_obj) in enumerate(dist_objs) if d_obj is not None]\n",
    "dist_plot = [dist_obj.dist[1, 1] for dist_obj in dist_objs if dist_obj is not None]"
   ]
  },
  {
   "cell_type": "code",
   "execution_count": null,
   "metadata": {
    "editable": true,
    "slideshow": {
     "slide_type": ""
    },
    "tags": []
   },
   "outputs": [],
   "source": [
    "fig, ax = plt.subplots(figsize=(25, 5))\n",
    "ax.scatter(dist_dts, dist_plot, marker='s')\n",
    "ax.plot(dist_dts, dist_plot)\n",
    "ax.set_xlabel('Acquisition Time of Post Image')\n",
    "ax.set_ylabel('Mahalanobis Distance VH')\n",
    "ax.hlines(3, dist_dts[0], dist_dts[-1], ls='--')"
   ]
  },
  {
   "cell_type": "markdown",
   "metadata": {
    "editable": true,
    "slideshow": {
     "slide_type": ""
    },
    "tags": []
   },
   "source": [
    "# Example Workflow"
   ]
  },
  {
   "cell_type": "code",
   "execution_count": null,
   "metadata": {
    "editable": true,
    "slideshow": {
     "slide_type": ""
    },
    "tags": []
   },
   "outputs": [],
   "source": [
    "def generate_post_idxs_for_workflow(acq_dt_l: list[pd.Timestamp],\n",
    "                                    n_pre_img: int, \n",
    "                                    n_post_imgs_to_confirm: int,\n",
    "                                    lookback_length_days: int) -> list:\n",
    "    n_acqs = len(acq_dt_l)\n",
    "    if lookback_length_days >= 60:\n",
    "        temporal_window_size = n_pre_img // 2 + 1\n",
    "        valid_post_idxs = [i for i, ts in enumerate(acq_dt_l) if (ts >= acq_dt_l[temporal_window_size] + pd.Timedelta(lookback_length_days, 'd')) and\n",
    "                          (i > n_pre_img) and (i < n_acqs - n_post_imgs_to_confirm + 1)\n",
    "                         ]\n",
    "    elif lookback_length_days == 0:\n",
    "         valid_post_idxs = list(range(n_pre_img + 1, n_acqs)) \n",
    "    else:\n",
    "        raise ValueError('if lookback_length_days is nonzero, must be greater than 60')\n",
    "    return valid_post_idxs\n",
    "\n",
    "\n",
    "def lookup_pre_idx(post_idx: int,\n",
    "                   acq_dt_l: list[pd.Timestamp],\n",
    "                   n_pre_img: int,\n",
    "                   lookback_length_days: int):\n",
    "    if lookback_length_days >= 60:\n",
    "        window_size = n_pre_img // 2\n",
    "        valid_pre_idx = [i for (i, ts) in enumerate(acq_dt_l) if ts < (acq_dt_l[post_idx] - pd.Timedelta(lookback_length_days, 'd'))]\n",
    "        if valid_pre_idx:\n",
    "            pre_idx_center = valid_pre_idx[-1]\n",
    "            pre_idxs = list(range(pre_idx_center - window_size, pre_idx_center + window_size + 1))\n",
    "        else:\n",
    "            raise ValueError('post idx does nothave valid pre-indices')\n",
    "    elif lookback_length_days == 0:\n",
    "         pre_idxs = list(range(post_idx - n_pre_img - 1, post_idx))\n",
    "    else:\n",
    "        raise ValueError('if lookback_length_days is nonzero, must be greater than 60')\n",
    "    return pre_idxs"
   ]
  },
  {
   "cell_type": "code",
   "execution_count": null,
   "metadata": {
    "editable": true,
    "slideshow": {
     "slide_type": ""
    },
    "tags": []
   },
   "outputs": [],
   "source": [
    "acq_dt_l = df_rtc_ts.acq_datetime.tolist()\n",
    "n_pre_img = 5\n",
    "n_post_imgs_to_confirm = 3\n",
    "lookback_length_days = 365"
   ]
  },
  {
   "cell_type": "code",
   "execution_count": null,
   "metadata": {
    "editable": true,
    "slideshow": {
     "slide_type": ""
    },
    "tags": []
   },
   "outputs": [],
   "source": [
    "valid_post_idxs = generate_post_idxs_for_workflow(acq_dt_l, \n",
    "                                                  n_pre_img, \n",
    "                                                  n_post_imgs_to_confirm, \n",
    "                                                  lookback_length_days)\n",
    "valid_pre_idxs = [lookup_pre_idx(post_idx, acq_dt_l, n_pre_img, lookback_length_days) for post_idx in valid_post_idxs]"
   ]
  },
  {
   "cell_type": "code",
   "execution_count": null,
   "metadata": {
    "editable": true,
    "slideshow": {
     "slide_type": ""
    },
    "tags": []
   },
   "outputs": [],
   "source": [
    "T = 3\n",
    "\n",
    "def window_mahalanobis_1d_workflow(arr_data_l: list[list], \n",
    "                                   acq_dt_l: list[pd.Timestamp],\n",
    "                                   n_pre_img: int = LOOKBACK_WINDOW, \n",
    "                                   n_post_imgs_to_confirm: int = 3,\n",
    "                                   lookback_length_days: int = LOOKBACK_LENGTH_DAYS\n",
    "                                   ):\n",
    "    N = len(arr_data_l)\n",
    "    M = len(acq_dt_l)\n",
    "    if N != M:\n",
    "        raise ValueError('arr_data_l and acq_dt_l must have same length')\n",
    "\n",
    "    if (lookback_length_days != 0) and (lookback_length_days < 60):\n",
    "        raise ValueError('If using non-zero lookback_length, must be larger than 60 days')\n",
    "    valid_post_idxs = generate_post_idxs_for_workflow(acq_dt_l, n_pre_img, n_post_imgs_to_confirm, lookback_length_days)\n",
    "    valid_pre_idxs = [lookup_pre_idx(post_idx, acq_dt_l, n_pre_img, lookback_length_days) for post_idx in valid_post_idxs]\n",
    "    \n",
    "    dist_objs = [compute_mahalonobis_dist_1d(arr_data_l[pre_idxs[0]: pre_idxs[-1]], \n",
    "                                             [arr_data_l[post_idx + j] for j in range(n_post_imgs_to_confirm)],\n",
    "                                             window_size=3) for (pre_idxs, post_idx) in zip(valid_pre_idxs, valid_post_idxs)]\n",
    "    # 1 for change and 0 elsewhere\n",
    "    # note the [1, 1] indexing!\n",
    "    change_pts_init = [int(all([d[1, 1] > T for d in dist_ob.dist])) if dist_ob is not None else 0 for dist_ob in dist_objs]\n",
    "    # Change\n",
    "    try:\n",
    "        ind_c = change_pts_init.index(1)\n",
    "        change_pts = [int(ind >= ind_c) for ind in range(len(change_pts_init))]\n",
    "    # No Change\n",
    "    except ValueError:\n",
    "        change_pts = change_pts_init\n",
    "    valid_dts = pd.Series([acq_dt_l[k] for k in valid_post_idxs])\n",
    "    return valid_dts, np.array(change_pts)"
   ]
  },
  {
   "cell_type": "code",
   "execution_count": null,
   "metadata": {
    "editable": true,
    "slideshow": {
     "slide_type": ""
    },
    "tags": []
   },
   "outputs": [],
   "source": [
    "ts_obs, y_obs = window_mahalanobis_1d_workflow(vh_arrs, df_rtc_ts.acq_datetime.tolist())"
   ]
  },
  {
   "cell_type": "code",
   "execution_count": null,
   "metadata": {
    "editable": true,
    "slideshow": {
     "slide_type": ""
    },
    "tags": []
   },
   "outputs": [],
   "source": [
    "fig, ax1 = plt.subplots(figsize=(25, 5))\n",
    "\n",
    "\n",
    "ax1.scatter(ts_obs, y_obs)\n",
    "ax1.set_ylabel('Change/No Change')\n",
    "ax1.set_ylim(-.05, 1.05)\n",
    "ax2 = ax1.twinx()\n",
    "bs = vv_c#.rolling(3).sum()\n",
    "ax2.plot(df_rtc_ts['acq_datetime'], bs, \n",
    "         marker='v', color='tab:brown', label='vh_avg')\n",
    "ax2.set_ylabel('vh', color='tab:brown')\n",
    "ax2.tick_params(axis='y', labelcolor='tab:brown')"
   ]
  },
  {
   "cell_type": "markdown",
   "metadata": {
    "editable": true,
    "slideshow": {
     "slide_type": ""
    },
    "tags": []
   },
   "source": [
    "# Accuracy\n",
    "\n",
    "Let's just compare data directly and get accuracy per site."
   ]
  },
  {
   "cell_type": "code",
   "execution_count": null,
   "metadata": {
    "editable": true,
    "slideshow": {
     "slide_type": ""
    },
    "tags": []
   },
   "outputs": [],
   "source": [
    "change_time = df_site['change_time'][0]\n",
    "last_observation_time = df_site['last_observation_time'][0]\n",
    "\n",
    "FIRST_OBSERVATION_VAL_DATA = pd.Timestamp('2021-10-01')\n",
    "NODATA_VAL = 3\n",
    "\n",
    "def generate_val_vec(valid_obs: pd.Series,\n",
    "                     last_observed: pd.Timestamp, \n",
    "                     change_time: pd.Timestamp, \n",
    "                            ) -> np.ndarray:\n",
    "    \"\"\"\n",
    "    0 = no change\n",
    "    1 = change\n",
    "    2 = either change / no change\n",
    "    255 = nodata\n",
    "    \"\"\"\n",
    "    y_val = np.zeros(valid_obs.shape[0], dtype=np.uint8)\n",
    "    y_val[valid_obs < FIRST_OBSERVATION_VAL_DATA] = NODATA_VAL\n",
    "    \n",
    "    # No change\n",
    "    if isinstance(change_time, type(pd.NaT)):\n",
    "        pass\n",
    "    # Change\n",
    "    else:\n",
    "        # after change time - these are definite change observations\n",
    "        y_val[(valid_obs >= change_time)] = 1\n",
    "        # between change time and last observations - these are indeterminate\n",
    "        if isinstance(last_observed_time, type(pd.NaT)):\n",
    "            y_val[valid_obs < change_time] = 2\n",
    "        else:\n",
    "            ind = (valid_obs < change_time) & (valid_obs > last_observed_time)\n",
    "            y_val[ind] = 2\n",
    "    return y_val\n",
    "\n",
    "def get_total_accuracy(y_val, y_obs) -> float:\n",
    "    mask = y_val == 255\n",
    "\n",
    "    acc = ((y_val == 2) | (y_val == y_obs)).sum() / (~mask).sum()\n",
    "    return acc\n",
    "\n",
    "def get_user_change_accuracy(y_val, y_obs) -> float:\n",
    "    mask = y_val == 255\n",
    "    y_val_is_1 = (y_val == 1)\n",
    "    \n",
    "    if y_val_is_1.sum() == 0:\n",
    "        user_acc = np.nan\n",
    "    else:\n",
    "        user_acc = (y_val_is_1 & (y_obs == 1)).sum() / (y_val_is_1 & (y_val != 2) & ~mask).sum()\n",
    "    return user_acc\n",
    "\n",
    "\n",
    "def get_producer_change_accuracy(y_val, y_obs) -> float:\n",
    "    mask = (y_val == 255)\n",
    "    y_obs_is_1 = (y_obs == 1)\n",
    "    \n",
    "    if y_obs_is_1.sum() == 0:\n",
    "        prod_acc = np.nan\n",
    "    else:\n",
    "        prod_acc = (y_obs_is_1 & (y_val == 1)).sum() / (y_obs_is_1 & (y_val != 2) & ~mask).sum()\n",
    "    return prod_acc"
   ]
  },
  {
   "cell_type": "code",
   "execution_count": null,
   "metadata": {
    "editable": true,
    "slideshow": {
     "slide_type": ""
    },
    "tags": []
   },
   "outputs": [],
   "source": [
    "y_val = generate_val_vec(ts_obs, last_observation_time, change_time)\n",
    "prod_acc = get_producer_change_accuracy(y_val, y_obs)\n",
    "user_acc = get_user_change_accuracy(y_val, y_obs)\n",
    "total_acc = get_total_accuracy(y_val, y_obs)\n",
    "\n",
    "print(f'{total_acc=} {user_acc=} {prod_acc=}')"
   ]
  },
  {
   "cell_type": "code",
   "execution_count": null,
   "metadata": {
    "editable": true,
    "slideshow": {
     "slide_type": ""
    },
    "tags": []
   },
   "outputs": [],
   "source": [
    "fig, ax = plt.subplots(figsize=(25, 5))\n",
    "ax.plot(ts_obs, y_val, marker='s', label='validation', alpha=.5)\n",
    "ax.plot(ts_obs, y_obs, marker='o', label='Change Workflow', alpha=.2)\n",
    "ax.set_ylim(-0.5, 3.05)\n",
    "plt.legend()"
   ]
  },
  {
   "cell_type": "markdown",
   "metadata": {
    "editable": true,
    "slideshow": {
     "slide_type": ""
    },
    "tags": []
   },
   "source": [
    "# Serialize"
   ]
  },
  {
   "cell_type": "code",
   "execution_count": null,
   "metadata": {
    "editable": true,
    "slideshow": {
     "slide_type": ""
    },
    "tags": []
   },
   "outputs": [],
   "source": [
    "df_data = df_site.iloc[:1].copy()\n",
    "df_data.loc[:, 'jpl_burst_id'] = BURST_ID\n",
    "df_data['accuracy'] = total_acc\n",
    "df_data['user_accuracy'] = user_acc\n",
    "df_data['prod_accuracy'] = prod_acc\n",
    "df_data"
   ]
  },
  {
   "cell_type": "code",
   "execution_count": null,
   "metadata": {
    "editable": true,
    "slideshow": {
     "slide_type": ""
    },
    "tags": []
   },
   "outputs": [],
   "source": [
    "out_dir = Path(f'site_metrics/lookback-{str(LOOKBACK_LENGTH_DAYS)}-days__window-{LOOKBACK_WINDOW}')\n",
    "out_dir.mkdir(exist_ok=True, parents=True)\n",
    "out_dir"
   ]
  },
  {
   "cell_type": "code",
   "execution_count": null,
   "metadata": {
    "editable": true,
    "slideshow": {
     "slide_type": ""
    },
    "tags": []
   },
   "outputs": [],
   "source": [
    "df_data.to_parquet(out_dir / f'{SITE_ID}__{BURST_ID}.parquet')"
   ]
  }
 ],
 "metadata": {
  "kernelspec": {
   "display_name": "dist-s1",
   "language": "python",
   "name": "dist-s1"
  },
  "language_info": {
   "codemirror_mode": {
    "name": "ipython",
    "version": 3
   },
   "file_extension": ".py",
   "mimetype": "text/x-python",
   "name": "python",
   "nbconvert_exporter": "python",
   "pygments_lexer": "ipython3",
   "version": "3.12.4"
  }
 },
 "nbformat": 4,
 "nbformat_minor": 4
}
