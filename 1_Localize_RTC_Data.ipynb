{
 "cells": [
  {
   "cell_type": "code",
   "execution_count": 1,
   "metadata": {
    "editable": true,
    "slideshow": {
     "slide_type": ""
    },
    "tags": []
   },
   "outputs": [],
   "source": [
    "%matplotlib inline"
   ]
  },
  {
   "cell_type": "code",
   "execution_count": 2,
   "metadata": {},
   "outputs": [],
   "source": [
    "%load_ext autoreload\n",
    "%autoreload 2"
   ]
  },
  {
   "cell_type": "code",
   "execution_count": 3,
   "metadata": {
    "editable": true,
    "slideshow": {
     "slide_type": ""
    },
    "tags": []
   },
   "outputs": [],
   "source": [
    "import geopandas as gpd\n",
    "import pandas as pd\n",
    "from distmetrics import compute_mahalonobis_dist_2d, compute_transformer_zscore, load_trained_transformer_model\n",
    "\n",
    "import matplotlib.pyplot as plt\n",
    "import warnings\n",
    "import numpy as np\n",
    "import concurrent.futures\n",
    "import rasterio\n",
    "from pyproj import Transformer\n",
    "from rasterio.crs import CRS\n",
    "from tqdm import tqdm\n",
    "from pathlib import Path\n",
    "from val_io import get_burst_time_series_around_point, get_utm_coords\n",
    "from distmetrics import despeckle_rtc_arrs_with_tv\n",
    "import json"
   ]
  },
  {
   "cell_type": "markdown",
   "metadata": {
    "editable": true,
    "slideshow": {
     "slide_type": ""
    },
    "tags": []
   },
   "source": [
    "# Parameters"
   ]
  },
  {
   "cell_type": "code",
   "execution_count": 4,
   "metadata": {
    "editable": true,
    "slideshow": {
     "slide_type": ""
    },
    "tags": [
     "parameters"
    ]
   },
   "outputs": [],
   "source": [
    "SITE_ID = 158 # 40 #95\n",
    "IDX_BURST = 1 # should be 0 or 1. Note that some sites only have 1 burst, so only 0 IDX is valid\n",
    "LOOKBACK_DELTA_DAYS = 365 \n",
    "\n",
    "MAX_PRE_IMGS = 10\n",
    "MIN_PRE_IMGS = 4\n",
    "\n",
    "N_CPUS = 5\n",
    "\n",
    "WINDOW_SIZE = 101"
   ]
  },
  {
   "cell_type": "markdown",
   "metadata": {
    "editable": true,
    "slideshow": {
     "slide_type": ""
    },
    "tags": []
   },
   "source": [
    "# Site Table"
   ]
  },
  {
   "cell_type": "code",
   "execution_count": 5,
   "metadata": {
    "editable": true,
    "slideshow": {
     "slide_type": ""
    },
    "tags": []
   },
   "outputs": [
    {
     "data": {
      "text/html": [
       "<div>\n",
       "<style scoped>\n",
       "    .dataframe tbody tr th:only-of-type {\n",
       "        vertical-align: middle;\n",
       "    }\n",
       "\n",
       "    .dataframe tbody tr th {\n",
       "        vertical-align: top;\n",
       "    }\n",
       "\n",
       "    .dataframe thead th {\n",
       "        text-align: right;\n",
       "    }\n",
       "</style>\n",
       "<table border=\"1\" class=\"dataframe\">\n",
       "  <thead>\n",
       "    <tr style=\"text-align: right;\">\n",
       "      <th></th>\n",
       "      <th>site_id</th>\n",
       "      <th>change_label</th>\n",
       "      <th>change_type</th>\n",
       "      <th>change_time</th>\n",
       "      <th>last_observation_time</th>\n",
       "      <th>mgrs_tile_id</th>\n",
       "      <th>jpl_burst_id</th>\n",
       "      <th>geometry</th>\n",
       "    </tr>\n",
       "  </thead>\n",
       "  <tbody>\n",
       "    <tr>\n",
       "      <th>0</th>\n",
       "      <td>4</td>\n",
       "      <td>VLmaj</td>\n",
       "      <td>Fire</td>\n",
       "      <td>2021-11-07</td>\n",
       "      <td>2021-11-02</td>\n",
       "      <td>34NCL</td>\n",
       "      <td>T036-076228-IW3</td>\n",
       "      <td>POINT (19.33289 4.57490)</td>\n",
       "    </tr>\n",
       "    <tr>\n",
       "      <th>1</th>\n",
       "      <td>13</td>\n",
       "      <td>VLmaj</td>\n",
       "      <td>Crop cycle change</td>\n",
       "      <td>2021-10-03</td>\n",
       "      <td>NaT</td>\n",
       "      <td>39STR</td>\n",
       "      <td>T108-230715-IW2</td>\n",
       "      <td>POINT (48.77698 31.75490)</td>\n",
       "    </tr>\n",
       "    <tr>\n",
       "      <th>2</th>\n",
       "      <td>13</td>\n",
       "      <td>VLmaj</td>\n",
       "      <td>Crop cycle change</td>\n",
       "      <td>2021-10-03</td>\n",
       "      <td>NaT</td>\n",
       "      <td>39STR</td>\n",
       "      <td>T101-214979-IW1</td>\n",
       "      <td>POINT (48.77698 31.75490)</td>\n",
       "    </tr>\n",
       "    <tr>\n",
       "      <th>3</th>\n",
       "      <td>22</td>\n",
       "      <td>VLmin</td>\n",
       "      <td>Natural browning</td>\n",
       "      <td>2021-12-19</td>\n",
       "      <td>2021-12-12</td>\n",
       "      <td>37SBV</td>\n",
       "      <td>T014-028130-IW2</td>\n",
       "      <td>POINT (36.61178 35.52891)</td>\n",
       "    </tr>\n",
       "    <tr>\n",
       "      <th>4</th>\n",
       "      <td>22</td>\n",
       "      <td>VLmin</td>\n",
       "      <td>Natural browning</td>\n",
       "      <td>2021-12-19</td>\n",
       "      <td>2021-12-12</td>\n",
       "      <td>37SBV</td>\n",
       "      <td>T021-043823-IW2</td>\n",
       "      <td>POINT (36.61178 35.52891)</td>\n",
       "    </tr>\n",
       "  </tbody>\n",
       "</table>\n",
       "</div>"
      ],
      "text/plain": [
       "   site_id change_label        change_type change_time last_observation_time  \\\n",
       "0        4        VLmaj               Fire  2021-11-07            2021-11-02   \n",
       "1       13        VLmaj  Crop cycle change  2021-10-03                   NaT   \n",
       "2       13        VLmaj  Crop cycle change  2021-10-03                   NaT   \n",
       "3       22        VLmin   Natural browning  2021-12-19            2021-12-12   \n",
       "4       22        VLmin   Natural browning  2021-12-19            2021-12-12   \n",
       "\n",
       "  mgrs_tile_id     jpl_burst_id                   geometry  \n",
       "0        34NCL  T036-076228-IW3   POINT (19.33289 4.57490)  \n",
       "1        39STR  T108-230715-IW2  POINT (48.77698 31.75490)  \n",
       "2        39STR  T101-214979-IW1  POINT (48.77698 31.75490)  \n",
       "3        37SBV  T014-028130-IW2  POINT (36.61178 35.52891)  \n",
       "4        37SBV  T021-043823-IW2  POINT (36.61178 35.52891)  "
      ]
     },
     "execution_count": 5,
     "metadata": {},
     "output_type": "execute_result"
    }
   ],
   "source": [
    "df_sites = gpd.read_file('data/val_sites_subset.geojson')\n",
    "df_sites.head()"
   ]
  },
  {
   "cell_type": "code",
   "execution_count": 6,
   "metadata": {
    "editable": true,
    "slideshow": {
     "slide_type": ""
    },
    "tags": []
   },
   "outputs": [
    {
     "data": {
      "text/html": [
       "<div>\n",
       "<style scoped>\n",
       "    .dataframe tbody tr th:only-of-type {\n",
       "        vertical-align: middle;\n",
       "    }\n",
       "\n",
       "    .dataframe tbody tr th {\n",
       "        vertical-align: top;\n",
       "    }\n",
       "\n",
       "    .dataframe thead th {\n",
       "        text-align: right;\n",
       "    }\n",
       "</style>\n",
       "<table border=\"1\" class=\"dataframe\">\n",
       "  <thead>\n",
       "    <tr style=\"text-align: right;\">\n",
       "      <th></th>\n",
       "      <th>site_id</th>\n",
       "      <th>change_label</th>\n",
       "      <th>change_type</th>\n",
       "      <th>change_time</th>\n",
       "      <th>last_observation_time</th>\n",
       "      <th>mgrs_tile_id</th>\n",
       "      <th>jpl_burst_id</th>\n",
       "      <th>geometry</th>\n",
       "    </tr>\n",
       "  </thead>\n",
       "  <tbody>\n",
       "    <tr>\n",
       "      <th>0</th>\n",
       "      <td>158</td>\n",
       "      <td>VLmaj</td>\n",
       "      <td>Crop cycle change</td>\n",
       "      <td>2021-11-13</td>\n",
       "      <td>2021-11-03</td>\n",
       "      <td>37TCN</td>\n",
       "      <td>T167-357347-IW1</td>\n",
       "      <td>POINT (37.02294 47.62284)</td>\n",
       "    </tr>\n",
       "    <tr>\n",
       "      <th>1</th>\n",
       "      <td>158</td>\n",
       "      <td>VLmaj</td>\n",
       "      <td>Crop cycle change</td>\n",
       "      <td>2021-11-13</td>\n",
       "      <td>2021-11-03</td>\n",
       "      <td>37TCN</td>\n",
       "      <td>T116-247291-IW3</td>\n",
       "      <td>POINT (37.02294 47.62284)</td>\n",
       "    </tr>\n",
       "    <tr>\n",
       "      <th>2</th>\n",
       "      <td>158</td>\n",
       "      <td>VLmaj</td>\n",
       "      <td>Crop cycle change</td>\n",
       "      <td>2021-11-13</td>\n",
       "      <td>2021-11-03</td>\n",
       "      <td>37TCN</td>\n",
       "      <td>T167-357346-IW1</td>\n",
       "      <td>POINT (37.02294 47.62284)</td>\n",
       "    </tr>\n",
       "  </tbody>\n",
       "</table>\n",
       "</div>"
      ],
      "text/plain": [
       "   site_id change_label        change_type change_time last_observation_time  \\\n",
       "0      158        VLmaj  Crop cycle change  2021-11-13            2021-11-03   \n",
       "1      158        VLmaj  Crop cycle change  2021-11-13            2021-11-03   \n",
       "2      158        VLmaj  Crop cycle change  2021-11-13            2021-11-03   \n",
       "\n",
       "  mgrs_tile_id     jpl_burst_id                   geometry  \n",
       "0        37TCN  T167-357347-IW1  POINT (37.02294 47.62284)  \n",
       "1        37TCN  T116-247291-IW3  POINT (37.02294 47.62284)  \n",
       "2        37TCN  T167-357346-IW1  POINT (37.02294 47.62284)  "
      ]
     },
     "execution_count": 6,
     "metadata": {},
     "output_type": "execute_result"
    }
   ],
   "source": [
    "df_site = df_sites[df_sites.site_id == SITE_ID].reset_index(drop=True)\n",
    "df_site"
   ]
  },
  {
   "cell_type": "markdown",
   "metadata": {
    "editable": true,
    "slideshow": {
     "slide_type": ""
    },
    "tags": []
   },
   "source": [
    "# Bursts"
   ]
  },
  {
   "cell_type": "code",
   "execution_count": 7,
   "metadata": {
    "editable": true,
    "slideshow": {
     "slide_type": ""
    },
    "tags": []
   },
   "outputs": [
    {
     "data": {
      "text/html": [
       "<div>\n",
       "<style scoped>\n",
       "    .dataframe tbody tr th:only-of-type {\n",
       "        vertical-align: middle;\n",
       "    }\n",
       "\n",
       "    .dataframe tbody tr th {\n",
       "        vertical-align: top;\n",
       "    }\n",
       "\n",
       "    .dataframe thead th {\n",
       "        text-align: right;\n",
       "    }\n",
       "</style>\n",
       "<table border=\"1\" class=\"dataframe\">\n",
       "  <thead>\n",
       "    <tr style=\"text-align: right;\">\n",
       "      <th></th>\n",
       "      <th>jpl_burst_id</th>\n",
       "      <th>geometry</th>\n",
       "      <th>n_acquisitions</th>\n",
       "      <th>site_id</th>\n",
       "    </tr>\n",
       "  </thead>\n",
       "  <tbody>\n",
       "    <tr>\n",
       "      <th>0</th>\n",
       "      <td>T005-008692-IW2</td>\n",
       "      <td>POLYGON ((-97.21446 17.86505, -97.21446 17.864...</td>\n",
       "      <td>104</td>\n",
       "      <td>72</td>\n",
       "    </tr>\n",
       "    <tr>\n",
       "      <th>1</th>\n",
       "      <td>T008-015865-IW2</td>\n",
       "      <td>POLYGON ((-1.50129 41.44183, -1.50130 41.44156...</td>\n",
       "      <td>101</td>\n",
       "      <td>150</td>\n",
       "    </tr>\n",
       "    <tr>\n",
       "      <th>2</th>\n",
       "      <td>T012-024584-IW1</td>\n",
       "      <td>POLYGON ((-103.78409 20.20832, -103.78409 20.2...</td>\n",
       "      <td>101</td>\n",
       "      <td>34</td>\n",
       "    </tr>\n",
       "    <tr>\n",
       "      <th>3</th>\n",
       "      <td>T014-028130-IW2</td>\n",
       "      <td>POLYGON ((37.01648 35.59545, 37.01649 35.59518...</td>\n",
       "      <td>100</td>\n",
       "      <td>22</td>\n",
       "    </tr>\n",
       "    <tr>\n",
       "      <th>4</th>\n",
       "      <td>T014-028131-IW2</td>\n",
       "      <td>POLYGON ((36.98085 35.76145, 36.98085 35.76118...</td>\n",
       "      <td>38</td>\n",
       "      <td>22</td>\n",
       "    </tr>\n",
       "  </tbody>\n",
       "</table>\n",
       "</div>"
      ],
      "text/plain": [
       "      jpl_burst_id                                           geometry  \\\n",
       "0  T005-008692-IW2  POLYGON ((-97.21446 17.86505, -97.21446 17.864...   \n",
       "1  T008-015865-IW2  POLYGON ((-1.50129 41.44183, -1.50130 41.44156...   \n",
       "2  T012-024584-IW1  POLYGON ((-103.78409 20.20832, -103.78409 20.2...   \n",
       "3  T014-028130-IW2  POLYGON ((37.01648 35.59545, 37.01649 35.59518...   \n",
       "4  T014-028131-IW2  POLYGON ((36.98085 35.76145, 36.98085 35.76118...   \n",
       "\n",
       "   n_acquisitions  site_id  \n",
       "0             104       72  \n",
       "1             101      150  \n",
       "2             101       34  \n",
       "3             100       22  \n",
       "4              38       22  "
      ]
     },
     "execution_count": 7,
     "metadata": {},
     "output_type": "execute_result"
    }
   ],
   "source": [
    "df_val_bursts = gpd.read_parquet('data/validation_bursts_v1_coverage_updated.parquet')\n",
    "df_val_bursts.head()"
   ]
  },
  {
   "cell_type": "code",
   "execution_count": 8,
   "metadata": {
    "editable": true,
    "slideshow": {
     "slide_type": ""
    },
    "tags": []
   },
   "outputs": [
    {
     "data": {
      "text/html": [
       "<div>\n",
       "<style scoped>\n",
       "    .dataframe tbody tr th:only-of-type {\n",
       "        vertical-align: middle;\n",
       "    }\n",
       "\n",
       "    .dataframe tbody tr th {\n",
       "        vertical-align: top;\n",
       "    }\n",
       "\n",
       "    .dataframe thead th {\n",
       "        text-align: right;\n",
       "    }\n",
       "</style>\n",
       "<table border=\"1\" class=\"dataframe\">\n",
       "  <thead>\n",
       "    <tr style=\"text-align: right;\">\n",
       "      <th></th>\n",
       "      <th>jpl_burst_id</th>\n",
       "      <th>geometry</th>\n",
       "      <th>n_acquisitions</th>\n",
       "      <th>site_id</th>\n",
       "    </tr>\n",
       "  </thead>\n",
       "  <tbody>\n",
       "    <tr>\n",
       "      <th>0</th>\n",
       "      <td>T116-247291-IW3</td>\n",
       "      <td>POLYGON ((37.37307 47.74900, 37.37304 47.74873...</td>\n",
       "      <td>102</td>\n",
       "      <td>158</td>\n",
       "    </tr>\n",
       "    <tr>\n",
       "      <th>1</th>\n",
       "      <td>T167-357346-IW1</td>\n",
       "      <td>POLYGON ((36.18999 47.90358, 36.18995 47.90277...</td>\n",
       "      <td>102</td>\n",
       "      <td>158</td>\n",
       "    </tr>\n",
       "    <tr>\n",
       "      <th>2</th>\n",
       "      <td>T167-357347-IW1</td>\n",
       "      <td>POLYGON ((36.14347 47.73856, 36.14334 47.73641...</td>\n",
       "      <td>102</td>\n",
       "      <td>158</td>\n",
       "    </tr>\n",
       "  </tbody>\n",
       "</table>\n",
       "</div>"
      ],
      "text/plain": [
       "      jpl_burst_id                                           geometry  \\\n",
       "0  T116-247291-IW3  POLYGON ((37.37307 47.74900, 37.37304 47.74873...   \n",
       "1  T167-357346-IW1  POLYGON ((36.18999 47.90358, 36.18995 47.90277...   \n",
       "2  T167-357347-IW1  POLYGON ((36.14347 47.73856, 36.14334 47.73641...   \n",
       "\n",
       "   n_acquisitions  site_id  \n",
       "0             102      158  \n",
       "1             102      158  \n",
       "2             102      158  "
      ]
     },
     "execution_count": 8,
     "metadata": {},
     "output_type": "execute_result"
    }
   ],
   "source": [
    "df_bursts_for_site = df_val_bursts[df_val_bursts.site_id == SITE_ID].reset_index(drop=True)\n",
    "df_bursts_for_site.head()"
   ]
  },
  {
   "cell_type": "markdown",
   "metadata": {
    "editable": true,
    "slideshow": {
     "slide_type": ""
    },
    "tags": []
   },
   "source": [
    "# RTC Data"
   ]
  },
  {
   "cell_type": "code",
   "execution_count": 9,
   "metadata": {
    "editable": true,
    "slideshow": {
     "slide_type": ""
    },
    "tags": []
   },
   "outputs": [],
   "source": [
    "BURST_ID = df_bursts_for_site.iloc[IDX_BURST].jpl_burst_id"
   ]
  },
  {
   "cell_type": "code",
   "execution_count": 10,
   "metadata": {
    "editable": true,
    "slideshow": {
     "slide_type": ""
    },
    "tags": []
   },
   "outputs": [
    {
     "data": {
      "text/html": [
       "<div>\n",
       "<style scoped>\n",
       "    .dataframe tbody tr th:only-of-type {\n",
       "        vertical-align: middle;\n",
       "    }\n",
       "\n",
       "    .dataframe tbody tr th {\n",
       "        vertical-align: top;\n",
       "    }\n",
       "\n",
       "    .dataframe thead th {\n",
       "        text-align: right;\n",
       "    }\n",
       "</style>\n",
       "<table border=\"1\" class=\"dataframe\">\n",
       "  <thead>\n",
       "    <tr style=\"text-align: right;\">\n",
       "      <th></th>\n",
       "      <th>rtc_s1_id</th>\n",
       "      <th>input_slc_id</th>\n",
       "      <th>jpl_burst_id</th>\n",
       "      <th>bursts_per_slc_input</th>\n",
       "      <th>rtc_s1_vv_url</th>\n",
       "      <th>rtc_s1_vh_url</th>\n",
       "      <th>rtc_s1_h5_url</th>\n",
       "      <th>acq_datetime</th>\n",
       "    </tr>\n",
       "  </thead>\n",
       "  <tbody>\n",
       "    <tr>\n",
       "      <th>0</th>\n",
       "      <td>OPERA_L2_RTC-S1_T167-357346-IW1_20201003T03473...</td>\n",
       "      <td>S1B_IW_SLC__1SDV_20201003T034719_20201003T0347...</td>\n",
       "      <td>T167-357346-IW1</td>\n",
       "      <td>32</td>\n",
       "      <td>https://opera-pst-rs-pop1.s3.us-west-2.amazona...</td>\n",
       "      <td>https://opera-pst-rs-pop1.s3.us-west-2.amazona...</td>\n",
       "      <td>https://opera-pst-rs-pop1.s3.us-west-2.amazona...</td>\n",
       "      <td>2020-10-03 03:47:19</td>\n",
       "    </tr>\n",
       "    <tr>\n",
       "      <th>1</th>\n",
       "      <td>OPERA_L2_RTC-S1_T167-357346-IW1_20201009T03481...</td>\n",
       "      <td>S1A_IW_SLC__1SDV_20201009T034811_20201009T0348...</td>\n",
       "      <td>T167-357346-IW1</td>\n",
       "      <td>28</td>\n",
       "      <td>https://opera-pst-rs-pop1.s3.us-west-2.amazona...</td>\n",
       "      <td>https://opera-pst-rs-pop1.s3.us-west-2.amazona...</td>\n",
       "      <td>https://opera-pst-rs-pop1.s3.us-west-2.amazona...</td>\n",
       "      <td>2020-10-09 03:48:11</td>\n",
       "    </tr>\n",
       "    <tr>\n",
       "      <th>2</th>\n",
       "      <td>OPERA_L2_RTC-S1_T167-357346-IW1_20201015T03473...</td>\n",
       "      <td>S1B_IW_SLC__1SDV_20201015T034719_20201015T0347...</td>\n",
       "      <td>T167-357346-IW1</td>\n",
       "      <td>32</td>\n",
       "      <td>https://opera-pst-rs-pop1.s3.us-west-2.amazona...</td>\n",
       "      <td>https://opera-pst-rs-pop1.s3.us-west-2.amazona...</td>\n",
       "      <td>https://opera-pst-rs-pop1.s3.us-west-2.amazona...</td>\n",
       "      <td>2020-10-15 03:47:19</td>\n",
       "    </tr>\n",
       "    <tr>\n",
       "      <th>3</th>\n",
       "      <td>OPERA_L2_RTC-S1_T167-357346-IW1_20201021T03481...</td>\n",
       "      <td>S1A_IW_SLC__1SDV_20201021T034751_20201021T0348...</td>\n",
       "      <td>T167-357346-IW1</td>\n",
       "      <td>30</td>\n",
       "      <td>https://opera-pst-rs-pop1.s3.us-west-2.amazona...</td>\n",
       "      <td>https://opera-pst-rs-pop1.s3.us-west-2.amazona...</td>\n",
       "      <td>https://opera-pst-rs-pop1.s3.us-west-2.amazona...</td>\n",
       "      <td>2020-10-21 03:47:51</td>\n",
       "    </tr>\n",
       "    <tr>\n",
       "      <th>4</th>\n",
       "      <td>OPERA_L2_RTC-S1_T167-357346-IW1_20201027T03473...</td>\n",
       "      <td>S1B_IW_SLC__1SDV_20201027T034719_20201027T0347...</td>\n",
       "      <td>T167-357346-IW1</td>\n",
       "      <td>32</td>\n",
       "      <td>https://opera-pst-rs-pop1.s3.us-west-2.amazona...</td>\n",
       "      <td>https://opera-pst-rs-pop1.s3.us-west-2.amazona...</td>\n",
       "      <td>https://opera-pst-rs-pop1.s3.us-west-2.amazona...</td>\n",
       "      <td>2020-10-27 03:47:19</td>\n",
       "    </tr>\n",
       "  </tbody>\n",
       "</table>\n",
       "</div>"
      ],
      "text/plain": [
       "                                           rtc_s1_id  \\\n",
       "0  OPERA_L2_RTC-S1_T167-357346-IW1_20201003T03473...   \n",
       "1  OPERA_L2_RTC-S1_T167-357346-IW1_20201009T03481...   \n",
       "2  OPERA_L2_RTC-S1_T167-357346-IW1_20201015T03473...   \n",
       "3  OPERA_L2_RTC-S1_T167-357346-IW1_20201021T03481...   \n",
       "4  OPERA_L2_RTC-S1_T167-357346-IW1_20201027T03473...   \n",
       "\n",
       "                                        input_slc_id     jpl_burst_id  \\\n",
       "0  S1B_IW_SLC__1SDV_20201003T034719_20201003T0347...  T167-357346-IW1   \n",
       "1  S1A_IW_SLC__1SDV_20201009T034811_20201009T0348...  T167-357346-IW1   \n",
       "2  S1B_IW_SLC__1SDV_20201015T034719_20201015T0347...  T167-357346-IW1   \n",
       "3  S1A_IW_SLC__1SDV_20201021T034751_20201021T0348...  T167-357346-IW1   \n",
       "4  S1B_IW_SLC__1SDV_20201027T034719_20201027T0347...  T167-357346-IW1   \n",
       "\n",
       "   bursts_per_slc_input                                      rtc_s1_vv_url  \\\n",
       "0                    32  https://opera-pst-rs-pop1.s3.us-west-2.amazona...   \n",
       "1                    28  https://opera-pst-rs-pop1.s3.us-west-2.amazona...   \n",
       "2                    32  https://opera-pst-rs-pop1.s3.us-west-2.amazona...   \n",
       "3                    30  https://opera-pst-rs-pop1.s3.us-west-2.amazona...   \n",
       "4                    32  https://opera-pst-rs-pop1.s3.us-west-2.amazona...   \n",
       "\n",
       "                                       rtc_s1_vh_url  \\\n",
       "0  https://opera-pst-rs-pop1.s3.us-west-2.amazona...   \n",
       "1  https://opera-pst-rs-pop1.s3.us-west-2.amazona...   \n",
       "2  https://opera-pst-rs-pop1.s3.us-west-2.amazona...   \n",
       "3  https://opera-pst-rs-pop1.s3.us-west-2.amazona...   \n",
       "4  https://opera-pst-rs-pop1.s3.us-west-2.amazona...   \n",
       "\n",
       "                                       rtc_s1_h5_url        acq_datetime  \n",
       "0  https://opera-pst-rs-pop1.s3.us-west-2.amazona... 2020-10-03 03:47:19  \n",
       "1  https://opera-pst-rs-pop1.s3.us-west-2.amazona... 2020-10-09 03:48:11  \n",
       "2  https://opera-pst-rs-pop1.s3.us-west-2.amazona... 2020-10-15 03:47:19  \n",
       "3  https://opera-pst-rs-pop1.s3.us-west-2.amazona... 2020-10-21 03:47:51  \n",
       "4  https://opera-pst-rs-pop1.s3.us-west-2.amazona... 2020-10-27 03:47:19  "
      ]
     },
     "execution_count": 10,
     "metadata": {},
     "output_type": "execute_result"
    }
   ],
   "source": [
    "df_rtc = pd.read_json('data/rtc_s1_table.json.zip')\n",
    "df_rtc_ts = df_rtc[df_rtc.jpl_burst_id == BURST_ID].reset_index(drop=True)\n",
    "df_rtc_ts['acq_datetime'] = pd.to_datetime(df_rtc_ts['acq_datetime'])\n",
    "df_rtc_ts.head()"
   ]
  },
  {
   "cell_type": "markdown",
   "metadata": {
    "editable": true,
    "slideshow": {
     "slide_type": ""
    },
    "tags": []
   },
   "source": [
    "# Load Data"
   ]
  },
  {
   "cell_type": "code",
   "execution_count": 11,
   "metadata": {
    "editable": true,
    "slideshow": {
     "slide_type": ""
    },
    "tags": []
   },
   "outputs": [],
   "source": [
    "geo = df_site.geometry[0]\n",
    "lon, lat = geo.x, geo.y\n",
    "vv_url = df_rtc_ts.rtc_s1_vv_url[0]"
   ]
  },
  {
   "cell_type": "code",
   "execution_count": 12,
   "metadata": {},
   "outputs": [],
   "source": [
    "with rasterio.open(vv_url) as ds:\n",
    "    profile_ref = ds.profile\n",
    "    utm_crs = ds.crs"
   ]
  },
  {
   "cell_type": "code",
   "execution_count": 13,
   "metadata": {},
   "outputs": [
    {
     "data": {
      "text/plain": [
       "(802251.1509761794, 5282226.241872362)"
      ]
     },
     "execution_count": 13,
     "metadata": {},
     "output_type": "execute_result"
    }
   ],
   "source": [
    "utm_x, utm_y = get_utm_coords(utm_crs, lon, lat)\n",
    "utm_x, utm_y"
   ]
  },
  {
   "cell_type": "code",
   "execution_count": 14,
   "metadata": {
    "editable": true,
    "slideshow": {
     "slide_type": ""
    },
    "tags": []
   },
   "outputs": [
    {
     "name": "stderr",
     "output_type": "stream",
     "text": [
      "Exception occurred, terminating ... :  52%|█▌ | 53/102 [00:17<00:11,  4.17it/s]\n",
      "Exception occurred, terminating ... :   0%|            | 0/102 [00:00<?, ?it/s]\n",
      "100%|████████████████████████████████████████| 102/102 [00:28<00:00,  4.88it/s]"
     ]
    },
    {
     "name": "stdout",
     "output_type": "stream",
     "text": [
      "CPU times: user 711 ms, sys: 483 ms, total: 1.19 s\n",
      "Wall time: 55.5 s\n"
     ]
    },
    {
     "name": "stderr",
     "output_type": "stream",
     "text": [
      "\n"
     ]
    }
   ],
   "source": [
    "%%time\n",
    "\n",
    "vv_data = get_burst_time_series_around_point(df_rtc_ts.rtc_s1_vv_url.tolist(), lon, lat, window_size=WINDOW_SIZE, n_workers=N_CPUS)"
   ]
  },
  {
   "cell_type": "code",
   "execution_count": 15,
   "metadata": {},
   "outputs": [
    {
     "data": {
      "text/plain": [
       "{'driver': 'GTiff', 'dtype': 'float32', 'nodata': nan, 'width': 101, 'height': 101, 'count': 1, 'crs': CRS.from_epsg(32636), 'transform': Affine(30.0, 0.0, 800730.0,\n",
       "       0.0, -30.0, 5283750.0), 'blockxsize': 512, 'blockysize': 512, 'tiled': True, 'compress': 'deflate', 'interleave': 'band'}"
      ]
     },
     "execution_count": 15,
     "metadata": {},
     "output_type": "execute_result"
    }
   ],
   "source": [
    "vv_arrs, profs = zip(*vv_data)\n",
    "vv_arrs = [vv[0, ...] for vv in vv_arrs]\n",
    "\n",
    "prof_window = profs[0]\n",
    "prof_window"
   ]
  },
  {
   "cell_type": "code",
   "execution_count": 16,
   "metadata": {
    "editable": true,
    "slideshow": {
     "slide_type": ""
    },
    "tags": []
   },
   "outputs": [
    {
     "name": "stderr",
     "output_type": "stream",
     "text": [
      "Exception occurred, terminating ... :  53%|█▌ | 54/102 [00:18<00:13,  3.62it/s]\n",
      "Exception occurred, terminating ... :   0%|            | 0/102 [00:00<?, ?it/s]\n",
      "100%|████████████████████████████████████████| 102/102 [00:29<00:00,  4.72it/s]"
     ]
    },
    {
     "name": "stdout",
     "output_type": "stream",
     "text": [
      "CPU times: user 811 ms, sys: 514 ms, total: 1.32 s\n",
      "Wall time: 59.9 s\n"
     ]
    },
    {
     "name": "stderr",
     "output_type": "stream",
     "text": [
      "\n"
     ]
    }
   ],
   "source": [
    "%%time\n",
    "\n",
    "vh_data = get_burst_time_series_around_point(df_rtc_ts.rtc_s1_vh_url.tolist(), \n",
    "                                             lon, \n",
    "                                             lat, \n",
    "                                             n_workers=N_CPUS,\n",
    "                                             window_size=WINDOW_SIZE)"
   ]
  },
  {
   "cell_type": "code",
   "execution_count": 17,
   "metadata": {},
   "outputs": [],
   "source": [
    "vh_arrs, _ = zip(*vh_data)\n",
    "vh_arrs = [vh[0, ...] for vh in vh_arrs]"
   ]
  },
  {
   "cell_type": "code",
   "execution_count": 18,
   "metadata": {},
   "outputs": [
    {
     "name": "stderr",
     "output_type": "stream",
     "text": [
      "100%|███████████████████████████████████████| 102/102 [00:00<00:00, 559.32it/s]\n",
      "100%|███████████████████████████████████████| 102/102 [00:00<00:00, 545.11it/s]\n"
     ]
    }
   ],
   "source": [
    "arrs_vv_d = despeckle_rtc_arrs_with_tv(vv_arrs, n_jobs=N_CPUS)\n",
    "arrs_vh_d = despeckle_rtc_arrs_with_tv(vh_arrs, n_jobs=N_CPUS)"
   ]
  },
  {
   "cell_type": "code",
   "execution_count": 19,
   "metadata": {},
   "outputs": [
    {
     "data": {
      "text/plain": [
       "<matplotlib.image.AxesImage at 0x31697f1d0>"
      ]
     },
     "execution_count": 19,
     "metadata": {},
     "output_type": "execute_result"
    },
    {
     "data": {
      "image/png": "[encoded data removed]",
      "text/plain": [
       "<Figure size 640x480 with 1 Axes>"
      ]
     },
     "metadata": {},
     "output_type": "display_data"
    }
   ],
   "source": [
    "plt.imshow(arrs_vv_d[0])"
   ]
  },
  {
   "cell_type": "markdown",
   "metadata": {},
   "source": [
    "# Generate Pre/Post Groups"
   ]
  },
  {
   "cell_type": "markdown",
   "metadata": {},
   "source": [
    "The validation data starts here: https://github.com/OPERA-Cal-Val/DIST-Validation"
   ]
  },
  {
   "cell_type": "code",
   "execution_count": 20,
   "metadata": {},
   "outputs": [],
   "source": [
    "VAL_START_DATE = pd.Timestamp('2021-10-01')"
   ]
  },
  {
   "cell_type": "code",
   "execution_count": 21,
   "metadata": {},
   "outputs": [
    {
     "data": {
      "text/plain": [
       "([Timestamp('2021-10-04 03:47:57'),\n",
       "  Timestamp('2021-10-10 03:47:24'),\n",
       "  Timestamp('2021-10-16 03:47:57')],\n",
       " [61, 62, 63])"
      ]
     },
     "execution_count": 21,
     "metadata": {},
     "output_type": "execute_result"
    }
   ],
   "source": [
    "# The acquisition times should be sorted from oldest to newest\n",
    "acq_datetimes_all = df_rtc_ts['acq_datetime'].tolist()\n",
    "post_dts_all = [acq_dt for acq_dt in acq_datetimes_all if acq_dt >= VAL_START_DATE]\n",
    "post_idx_all = [idx for idx, acq_dt in enumerate(acq_datetimes_all) if acq_dt >= VAL_START_DATE]\n",
    "post_dts_all[:3], post_idx_all[:3]"
   ]
  },
  {
   "cell_type": "code",
   "execution_count": 22,
   "metadata": {},
   "outputs": [],
   "source": [
    "def get_pre_dates(post_dt: pd.Timestamp,\n",
    "                  max_dates=MAX_PRE_IMGS,\n",
    "                  as_idx=False) -> list:\n",
    "    pre = []\n",
    "    if as_idx:\n",
    "        pre = [idx for idx, dt in enumerate(acq_datetimes_all) if dt < post_dt - pd.Timedelta(LOOKBACK_DELTA_DAYS, unit='D')]\n",
    "    else:\n",
    "        pre = [dt for dt in acq_datetimes_all if dt <= post_dt - pd.Timedelta(LOOKBACK_DELTA_DAYS, unit='D')]\n",
    "    return pre[-MAX_PRE_IMGS:]"
   ]
  },
  {
   "cell_type": "code",
   "execution_count": 23,
   "metadata": {},
   "outputs": [
    {
     "data": {
      "text/plain": [
       "{'pre': [Timestamp('2020-10-03 03:47:19'),\n",
       "  Timestamp('2020-10-09 03:48:11'),\n",
       "  Timestamp('2020-10-15 03:47:19'),\n",
       "  Timestamp('2020-10-21 03:47:51')],\n",
       " 'post': [Timestamp('2021-10-22 03:47:25')]}"
      ]
     },
     "execution_count": 23,
     "metadata": {},
     "output_type": "execute_result"
    }
   ],
   "source": [
    "pre_post_dts = [{'pre': get_pre_dates(post_dt, \n",
    "                                      max_dates=MAX_PRE_IMGS,\n",
    "                                      as_idx=False),\n",
    "                 'post': [post_dt]} for post_dt in post_dts_all]\n",
    "pre_post_dts = [data for data in pre_post_dts if len(data['pre']) >= MIN_PRE_IMGS]\n",
    "pre_post_dts[0]"
   ]
  },
  {
   "cell_type": "code",
   "execution_count": 24,
   "metadata": {},
   "outputs": [
    {
     "data": {
      "text/plain": [
       "{'pre': [0, 1, 2, 3], 'post': [64]}"
      ]
     },
     "execution_count": 24,
     "metadata": {},
     "output_type": "execute_result"
    }
   ],
   "source": [
    "pre_post_idx = [{'pre': get_pre_dates(post_dt, \n",
    "                                      max_dates=MAX_PRE_IMGS,\n",
    "                                      as_idx=True),\n",
    "                 'post': [idx]} for idx, post_dt in zip(post_idx_all, post_dts_all)]\n",
    "pre_post_idx = [data for data in pre_post_idx if len(data['pre']) >= MIN_PRE_IMGS]\n",
    "pre_post_idx[0]"
   ]
  },
  {
   "cell_type": "code",
   "execution_count": 25,
   "metadata": {},
   "outputs": [
    {
     "data": {
      "text/plain": [
       "[Timestamp('2021-10-22 03:47:25'),\n",
       " Timestamp('2021-10-28 03:47:57'),\n",
       " Timestamp('2021-11-03 03:47:24')]"
      ]
     },
     "execution_count": 25,
     "metadata": {},
     "output_type": "execute_result"
    }
   ],
   "source": [
    "post_dates = [d['post'][0] for d in pre_post_dts]\n",
    "post_dates[:3]"
   ]
  },
  {
   "cell_type": "markdown",
   "metadata": {},
   "source": [
    "# Change index"
   ]
  },
  {
   "cell_type": "markdown",
   "metadata": {},
   "source": [
    "# Serialize Imagery\n"
   ]
  },
  {
   "cell_type": "code",
   "execution_count": 26,
   "metadata": {},
   "outputs": [],
   "source": [
    "out = Path('out')\n",
    "site_burst_dir = out / f'site_{SITE_ID}' / BURST_ID\n",
    "site_burst_dir.mkdir(exist_ok=True, parents=True)"
   ]
  },
  {
   "cell_type": "code",
   "execution_count": 27,
   "metadata": {},
   "outputs": [],
   "source": [
    "rtc_dir = site_burst_dir / 'rtc_ts'\n",
    "rtc_dir.mkdir(exist_ok=True, parents=True)"
   ]
  },
  {
   "cell_type": "code",
   "execution_count": 28,
   "metadata": {},
   "outputs": [
    {
     "name": "stderr",
     "output_type": "stream",
     "text": [
      "100%|███████████████████████████████████████| 204/204 [00:00<00:00, 369.64it/s]\n"
     ]
    },
    {
     "data": {
      "text/plain": [
       "[PosixPath('out/site_158/T167-357346-IW1/rtc_ts/OPERA_L2_RTC-S1_T167-357346-IW1_20201003T034731Z_20240426T215546Z_S1B_30_v1.0_VV.tif'),\n",
       " PosixPath('out/site_158/T167-357346-IW1/rtc_ts/OPERA_L2_RTC-S1_T167-357346-IW1_20201009T034814Z_20240426T174407Z_S1A_30_v1.0_VV.tif'),\n",
       " PosixPath('out/site_158/T167-357346-IW1/rtc_ts/OPERA_L2_RTC-S1_T167-357346-IW1_20201015T034732Z_20240426T222030Z_S1B_30_v1.0_VV.tif'),\n",
       " PosixPath('out/site_158/T167-357346-IW1/rtc_ts/OPERA_L2_RTC-S1_T167-357346-IW1_20201021T034813Z_20240426T181800Z_S1A_30_v1.0_VV.tif')]"
      ]
     },
     "execution_count": 28,
     "metadata": {},
     "output_type": "execute_result"
    }
   ],
   "source": [
    "from itertools import starmap\n",
    "\n",
    "def serialize_one_rtc(rtc_arr: np.ndarray, fn: Path, out_dir = rtc_dir):\n",
    "    out_path = rtc_dir / fn\n",
    "    with rasterio.open(out_path, 'w', **prof_window) as ds:\n",
    "        ds.write(rtc_arr, 1)\n",
    "    return out_path\n",
    "\n",
    "\n",
    "out_paths = [url.split('/')[-1] for url in df_rtc_ts.rtc_s1_vv_url.tolist()] + [url.split('/')[-1] for url in df_rtc_ts.rtc_s1_vh_url.tolist()]\n",
    "arrs = arrs_vv_d + arrs_vh_d\n",
    "\n",
    "out_paths = [serialize_one_rtc(arr, p) for (arr, p) in zip(tqdm(arrs), out_paths)]\n",
    "out_paths[:4]"
   ]
  },
  {
   "cell_type": "code",
   "execution_count": 29,
   "metadata": {},
   "outputs": [],
   "source": [
    "class PandasTimestampEncoder(json.JSONEncoder):\n",
    "    def default(self, obj):\n",
    "        if isinstance(obj, pd.Timestamp):\n",
    "            return obj.isoformat()\n",
    "        return super().default(obj)"
   ]
  },
  {
   "cell_type": "code",
   "execution_count": 30,
   "metadata": {},
   "outputs": [],
   "source": [
    "with open(rtc_dir / f'dates_delta{LOOKBACK_DELTA_DAYS}.json', 'w') as f:\n",
    "    json.dump(pre_post_dts, f, cls=PandasTimestampEncoder, indent=2)"
   ]
  },
  {
   "cell_type": "code",
   "execution_count": 31,
   "metadata": {},
   "outputs": [],
   "source": [
    "with open(rtc_dir / f'idx_delta{LOOKBACK_DELTA_DAYS}.json', 'w') as f:\n",
    "    json.dump(pre_post_idx, f, indent=2)"
   ]
  }
 ],
 "metadata": {
  "kernelspec": {
   "display_name": "dist-s1",
   "language": "python",
   "name": "dist-s1"
  },
  "language_info": {
   "codemirror_mode": {
    "name": "ipython",
    "version": 3
   },
   "file_extension": ".py",
   "mimetype": "text/x-python",
   "name": "python",
   "nbconvert_exporter": "python",
   "pygments_lexer": "ipython3",
   "version": "3.12.4"
  }
 },
 "nbformat": 4,
 "nbformat_minor": 4
}
