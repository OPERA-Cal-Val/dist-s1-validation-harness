{
 "cells": [
  {
   "cell_type": "code",
   "execution_count": 2,
   "id": "afd9ae8a-df98-461c-832f-862852ec7f3e",
   "metadata": {
    "editable": true,
    "slideshow": {
     "slide_type": ""
    },
    "tags": []
   },
   "outputs": [],
   "source": [
    "import geopandas as gpd\n",
    "import pandas as pd\n",
    "import matplotlib.pyplot as plt\n",
    "from pathlib import Path"
   ]
  },
  {
   "cell_type": "code",
   "execution_count": 3,
   "id": "80f31767-47de-418f-893c-8d906468f168",
   "metadata": {
    "editable": true,
    "slideshow": {
     "slide_type": ""
    },
    "tags": []
   },
   "outputs": [],
   "source": [
    "METRIC_DIR = Path('site_metrics/lookback-365-days__window-5/')\n",
    "parquet_files = list(METRIC_DIR.glob('*.parquet'))"
   ]
  },
  {
   "cell_type": "code",
   "execution_count": 4,
   "id": "b665b917-14f3-46e1-bce1-5f2fb1b3235e",
   "metadata": {
    "editable": true,
    "slideshow": {
     "slide_type": ""
    },
    "tags": []
   },
   "outputs": [
    {
     "data": {
      "text/html": [
       "<div>\n",
       "<style scoped>\n",
       "    .dataframe tbody tr th:only-of-type {\n",
       "        vertical-align: middle;\n",
       "    }\n",
       "\n",
       "    .dataframe tbody tr th {\n",
       "        vertical-align: top;\n",
       "    }\n",
       "\n",
       "    .dataframe thead th {\n",
       "        text-align: right;\n",
       "    }\n",
       "</style>\n",
       "<table border=\"1\" class=\"dataframe\">\n",
       "  <thead>\n",
       "    <tr style=\"text-align: right;\">\n",
       "      <th></th>\n",
       "      <th>site_id</th>\n",
       "      <th>change_label</th>\n",
       "      <th>change_type</th>\n",
       "      <th>change_time</th>\n",
       "      <th>last_observation_time</th>\n",
       "      <th>mgrs_tile_id</th>\n",
       "      <th>jpl_burst_id</th>\n",
       "      <th>geometry</th>\n",
       "      <th>accuracy</th>\n",
       "      <th>user_accuracy</th>\n",
       "      <th>prod_accuracy</th>\n",
       "    </tr>\n",
       "  </thead>\n",
       "  <tbody>\n",
       "    <tr>\n",
       "      <th>0</th>\n",
       "      <td>72</td>\n",
       "      <td>noChange</td>\n",
       "      <td>No Change</td>\n",
       "      <td>NaT</td>\n",
       "      <td>NaT</td>\n",
       "      <td>14QPE</td>\n",
       "      <td>T070-149179-IW3</td>\n",
       "      <td>POINT (-97.41515 17.77081)</td>\n",
       "      <td>1.0</td>\n",
       "      <td>NaN</td>\n",
       "      <td>NaN</td>\n",
       "    </tr>\n",
       "    <tr>\n",
       "      <th>0</th>\n",
       "      <td>72</td>\n",
       "      <td>noChange</td>\n",
       "      <td>No Change</td>\n",
       "      <td>NaT</td>\n",
       "      <td>NaT</td>\n",
       "      <td>14QPE</td>\n",
       "      <td>T005-008692-IW2</td>\n",
       "      <td>POINT (-97.41515 17.77081)</td>\n",
       "      <td>1.0</td>\n",
       "      <td>NaN</td>\n",
       "      <td>NaN</td>\n",
       "    </tr>\n",
       "  </tbody>\n",
       "</table>\n",
       "</div>"
      ],
      "text/plain": [
       "   site_id change_label change_type change_time last_observation_time  \\\n",
       "0       72     noChange   No Change         NaT                   NaT   \n",
       "0       72     noChange   No Change         NaT                   NaT   \n",
       "\n",
       "  mgrs_tile_id     jpl_burst_id                    geometry  accuracy  \\\n",
       "0        14QPE  T070-149179-IW3  POINT (-97.41515 17.77081)       1.0   \n",
       "0        14QPE  T005-008692-IW2  POINT (-97.41515 17.77081)       1.0   \n",
       "\n",
       "   user_accuracy  prod_accuracy  \n",
       "0            NaN            NaN  \n",
       "0            NaN            NaN  "
      ]
     },
     "execution_count": 4,
     "metadata": {},
     "output_type": "execute_result"
    }
   ],
   "source": [
    "dfs = [gpd.read_parquet(p) for p in parquet_files]\n",
    "df = pd.concat(dfs, axis=0)\n",
    "df.head()"
   ]
  },
  {
   "cell_type": "code",
   "execution_count": 7,
   "id": "b140f347-849a-4657-a9f1-03d8bb8eb03e",
   "metadata": {
    "editable": true,
    "slideshow": {
     "slide_type": ""
    },
    "tags": []
   },
   "outputs": [
    {
     "data": {
      "text/plain": [
       "'total_accuracy: 1.0 +/- 0.0'"
      ]
     },
     "execution_count": 7,
     "metadata": {},
     "output_type": "execute_result"
    }
   ],
   "source": [
    "m = df['accuracy'].mean()\n",
    "s = df['accuracy'].std()\n",
    "f'total_accuracy: {m} +/- {s}'"
   ]
  }
 ],
 "metadata": {
  "kernelspec": {
   "display_name": "dist-s1",
   "language": "python",
   "name": "dist-s1"
  },
  "language_info": {
   "codemirror_mode": {
    "name": "ipython",
    "version": 3
   },
   "file_extension": ".py",
   "mimetype": "text/x-python",
   "name": "python",
   "nbconvert_exporter": "python",
   "pygments_lexer": "ipython3",
   "version": "3.12.4"
  }
 },
 "nbformat": 4,
 "nbformat_minor": 5
}
