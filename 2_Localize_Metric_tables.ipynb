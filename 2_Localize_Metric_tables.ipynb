{
 "cells": [
  {
   "cell_type": "code",
   "execution_count": 1,
   "metadata": {
    "editable": true,
    "slideshow": {
     "slide_type": ""
    },
    "tags": []
   },
   "outputs": [],
   "source": [
    "%matplotlib inline"
   ]
  },
  {
   "cell_type": "code",
   "execution_count": 2,
   "metadata": {},
   "outputs": [],
   "source": [
    "%load_ext autoreload\n",
    "%autoreload 2"
   ]
  },
  {
   "cell_type": "code",
   "execution_count": 3,
   "metadata": {
    "editable": true,
    "slideshow": {
     "slide_type": ""
    },
    "tags": []
   },
   "outputs": [],
   "source": [
    "import geopandas as gpd\n",
    "import pandas as pd\n",
    "from distmetrics import (compute_transformer_zscore, \n",
    "                         load_trained_transformer_model, \n",
    "                         compute_mahalonobis_dist_2d, \n",
    "                         compute_mahalonobis_dist_1d, compute_log_ratio_decrease_metric, compute_cusum_1d, compute_prob_cusum_1d)\n",
    "from tqdm import tqdm\n",
    "import json\n",
    "import matplotlib.pyplot as plt\n",
    "import warnings\n",
    "import numpy as np\n",
    "import concurrent.futures\n",
    "import rasterio\n",
    "from pyproj import Transformer\n",
    "from rasterio.crs import CRS\n",
    "from tqdm import tqdm\n",
    "from pathlib import Path\n",
    "from val_io import get_burst_time_series_around_point, get_utm_coords\n",
    "from distmetrics import despeckle_rtc_arrs_with_tv\n",
    "import json\n",
    "from rasterio.transform import rowcol"
   ]
  },
  {
   "cell_type": "markdown",
   "metadata": {
    "editable": true,
    "slideshow": {
     "slide_type": ""
    },
    "tags": []
   },
   "source": [
    "# Parameters"
   ]
  },
  {
   "cell_type": "code",
   "execution_count": 4,
   "metadata": {
    "editable": true,
    "slideshow": {
     "slide_type": ""
    },
    "tags": [
     "parameters"
    ]
   },
   "outputs": [],
   "source": [
    "SITE_ID = 166 # 40 #95\n",
    "IDX_BURST = 0 # should be 0 or 1. Note that some sites only have 1 burst, so only 0 IDX is valid\n",
    "LOOKBACK_DELTA_DAYS = 365 \n",
    "\n",
    "MAX_PRE_IMGS = 10\n",
    "MIN_PRE_IMGS = 4\n",
    "\n",
    "N_WORKERS_IO = 10\n",
    "\n",
    "WINDOW_SIZE = 101\n",
    "\n",
    "DISTMETRIC_NAME = 'transformer'"
   ]
  },
  {
   "cell_type": "markdown",
   "metadata": {
    "editable": true,
    "slideshow": {
     "slide_type": ""
    },
    "tags": []
   },
   "source": [
    "# Site Table"
   ]
  },
  {
   "cell_type": "code",
   "execution_count": 5,
   "metadata": {
    "editable": true,
    "slideshow": {
     "slide_type": ""
    },
    "tags": []
   },
   "outputs": [
    {
     "data": {
      "text/html": [
       "<div>\n",
       "<style scoped>\n",
       "    .dataframe tbody tr th:only-of-type {\n",
       "        vertical-align: middle;\n",
       "    }\n",
       "\n",
       "    .dataframe tbody tr th {\n",
       "        vertical-align: top;\n",
       "    }\n",
       "\n",
       "    .dataframe thead th {\n",
       "        text-align: right;\n",
       "    }\n",
       "</style>\n",
       "<table border=\"1\" class=\"dataframe\">\n",
       "  <thead>\n",
       "    <tr style=\"text-align: right;\">\n",
       "      <th></th>\n",
       "      <th>site_id</th>\n",
       "      <th>change_label</th>\n",
       "      <th>change_type</th>\n",
       "      <th>change_time</th>\n",
       "      <th>last_observation_time</th>\n",
       "      <th>mgrs_tile_id</th>\n",
       "      <th>jpl_burst_id</th>\n",
       "      <th>geometry</th>\n",
       "    </tr>\n",
       "  </thead>\n",
       "  <tbody>\n",
       "    <tr>\n",
       "      <th>0</th>\n",
       "      <td>4</td>\n",
       "      <td>VLmaj</td>\n",
       "      <td>Fire</td>\n",
       "      <td>2021-11-07</td>\n",
       "      <td>2021-11-02</td>\n",
       "      <td>34NCL</td>\n",
       "      <td>T036-076228-IW3</td>\n",
       "      <td>POINT (19.33289 4.57490)</td>\n",
       "    </tr>\n",
       "    <tr>\n",
       "      <th>1</th>\n",
       "      <td>13</td>\n",
       "      <td>VLmaj</td>\n",
       "      <td>Crop cycle change</td>\n",
       "      <td>2021-10-03</td>\n",
       "      <td>NaT</td>\n",
       "      <td>39STR</td>\n",
       "      <td>T108-230715-IW2</td>\n",
       "      <td>POINT (48.77698 31.75490)</td>\n",
       "    </tr>\n",
       "    <tr>\n",
       "      <th>2</th>\n",
       "      <td>13</td>\n",
       "      <td>VLmaj</td>\n",
       "      <td>Crop cycle change</td>\n",
       "      <td>2021-10-03</td>\n",
       "      <td>NaT</td>\n",
       "      <td>39STR</td>\n",
       "      <td>T101-214979-IW1</td>\n",
       "      <td>POINT (48.77698 31.75490)</td>\n",
       "    </tr>\n",
       "    <tr>\n",
       "      <th>3</th>\n",
       "      <td>22</td>\n",
       "      <td>VLmin</td>\n",
       "      <td>Natural browning</td>\n",
       "      <td>2021-12-19</td>\n",
       "      <td>2021-12-12</td>\n",
       "      <td>37SBV</td>\n",
       "      <td>T014-028130-IW2</td>\n",
       "      <td>POINT (36.61178 35.52891)</td>\n",
       "    </tr>\n",
       "    <tr>\n",
       "      <th>4</th>\n",
       "      <td>22</td>\n",
       "      <td>VLmin</td>\n",
       "      <td>Natural browning</td>\n",
       "      <td>2021-12-19</td>\n",
       "      <td>2021-12-12</td>\n",
       "      <td>37SBV</td>\n",
       "      <td>T021-043823-IW2</td>\n",
       "      <td>POINT (36.61178 35.52891)</td>\n",
       "    </tr>\n",
       "  </tbody>\n",
       "</table>\n",
       "</div>"
      ],
      "text/plain": [
       "   site_id change_label        change_type change_time last_observation_time  \\\n",
       "0        4        VLmaj               Fire  2021-11-07            2021-11-02   \n",
       "1       13        VLmaj  Crop cycle change  2021-10-03                   NaT   \n",
       "2       13        VLmaj  Crop cycle change  2021-10-03                   NaT   \n",
       "3       22        VLmin   Natural browning  2021-12-19            2021-12-12   \n",
       "4       22        VLmin   Natural browning  2021-12-19            2021-12-12   \n",
       "\n",
       "  mgrs_tile_id     jpl_burst_id                   geometry  \n",
       "0        34NCL  T036-076228-IW3   POINT (19.33289 4.57490)  \n",
       "1        39STR  T108-230715-IW2  POINT (48.77698 31.75490)  \n",
       "2        39STR  T101-214979-IW1  POINT (48.77698 31.75490)  \n",
       "3        37SBV  T014-028130-IW2  POINT (36.61178 35.52891)  \n",
       "4        37SBV  T021-043823-IW2  POINT (36.61178 35.52891)  "
      ]
     },
     "execution_count": 5,
     "metadata": {},
     "output_type": "execute_result"
    }
   ],
   "source": [
    "df_sites = gpd.read_file('data/val_sites_subset.geojson')\n",
    "df_sites.head()"
   ]
  },
  {
   "cell_type": "code",
   "execution_count": 6,
   "metadata": {
    "editable": true,
    "slideshow": {
     "slide_type": ""
    },
    "tags": []
   },
   "outputs": [
    {
     "data": {
      "text/html": [
       "<div>\n",
       "<style scoped>\n",
       "    .dataframe tbody tr th:only-of-type {\n",
       "        vertical-align: middle;\n",
       "    }\n",
       "\n",
       "    .dataframe tbody tr th {\n",
       "        vertical-align: top;\n",
       "    }\n",
       "\n",
       "    .dataframe thead th {\n",
       "        text-align: right;\n",
       "    }\n",
       "</style>\n",
       "<table border=\"1\" class=\"dataframe\">\n",
       "  <thead>\n",
       "    <tr style=\"text-align: right;\">\n",
       "      <th></th>\n",
       "      <th>site_id</th>\n",
       "      <th>change_label</th>\n",
       "      <th>change_type</th>\n",
       "      <th>change_time</th>\n",
       "      <th>last_observation_time</th>\n",
       "      <th>mgrs_tile_id</th>\n",
       "      <th>jpl_burst_id</th>\n",
       "      <th>geometry</th>\n",
       "    </tr>\n",
       "  </thead>\n",
       "  <tbody>\n",
       "    <tr>\n",
       "      <th>0</th>\n",
       "      <td>166</td>\n",
       "      <td>noChange</td>\n",
       "      <td>No Change</td>\n",
       "      <td>NaT</td>\n",
       "      <td>NaT</td>\n",
       "      <td>10SFJ</td>\n",
       "      <td>T042-088909-IW2</td>\n",
       "      <td>POINT (-120.95295 38.94989)</td>\n",
       "    </tr>\n",
       "    <tr>\n",
       "      <th>1</th>\n",
       "      <td>166</td>\n",
       "      <td>noChange</td>\n",
       "      <td>No Change</td>\n",
       "      <td>NaT</td>\n",
       "      <td>NaT</td>\n",
       "      <td>10SFJ</td>\n",
       "      <td>T137-292347-IW2</td>\n",
       "      <td>POINT (-120.95295 38.94989)</td>\n",
       "    </tr>\n",
       "  </tbody>\n",
       "</table>\n",
       "</div>"
      ],
      "text/plain": [
       "   site_id change_label change_type change_time last_observation_time  \\\n",
       "0      166     noChange   No Change         NaT                   NaT   \n",
       "1      166     noChange   No Change         NaT                   NaT   \n",
       "\n",
       "  mgrs_tile_id     jpl_burst_id                     geometry  \n",
       "0        10SFJ  T042-088909-IW2  POINT (-120.95295 38.94989)  \n",
       "1        10SFJ  T137-292347-IW2  POINT (-120.95295 38.94989)  "
      ]
     },
     "execution_count": 6,
     "metadata": {},
     "output_type": "execute_result"
    }
   ],
   "source": [
    "df_site = df_sites[df_sites.site_id == SITE_ID].reset_index(drop=True)\n",
    "df_site"
   ]
  },
  {
   "cell_type": "markdown",
   "metadata": {},
   "source": [
    "# Full Validation Time Series"
   ]
  },
  {
   "cell_type": "code",
   "execution_count": 7,
   "metadata": {},
   "outputs": [
    {
     "data": {
      "text/html": [
       "<div>\n",
       "<style scoped>\n",
       "    .dataframe tbody tr th:only-of-type {\n",
       "        vertical-align: middle;\n",
       "    }\n",
       "\n",
       "    .dataframe tbody tr th {\n",
       "        vertical-align: top;\n",
       "    }\n",
       "\n",
       "    .dataframe thead th {\n",
       "        text-align: right;\n",
       "    }\n",
       "</style>\n",
       "<table border=\"1\" class=\"dataframe\">\n",
       "  <thead>\n",
       "    <tr style=\"text-align: right;\">\n",
       "      <th></th>\n",
       "      <th>site_id</th>\n",
       "      <th>date</th>\n",
       "      <th>obs</th>\n",
       "    </tr>\n",
       "  </thead>\n",
       "  <tbody>\n",
       "    <tr>\n",
       "      <th>0</th>\n",
       "      <td>166</td>\n",
       "      <td>2021-10-01</td>\n",
       "      <td>noObs</td>\n",
       "    </tr>\n",
       "    <tr>\n",
       "      <th>1</th>\n",
       "      <td>166</td>\n",
       "      <td>2021-10-02</td>\n",
       "      <td>noObs</td>\n",
       "    </tr>\n",
       "    <tr>\n",
       "      <th>2</th>\n",
       "      <td>166</td>\n",
       "      <td>2021-10-03</td>\n",
       "      <td>0</td>\n",
       "    </tr>\n",
       "    <tr>\n",
       "      <th>3</th>\n",
       "      <td>166</td>\n",
       "      <td>2021-10-04</td>\n",
       "      <td>0</td>\n",
       "    </tr>\n",
       "    <tr>\n",
       "      <th>4</th>\n",
       "      <td>166</td>\n",
       "      <td>2021-10-05</td>\n",
       "      <td>0</td>\n",
       "    </tr>\n",
       "  </tbody>\n",
       "</table>\n",
       "</div>"
      ],
      "text/plain": [
       "   site_id       date    obs\n",
       "0      166 2021-10-01  noObs\n",
       "1      166 2021-10-02  noObs\n",
       "2      166 2021-10-03      0\n",
       "3      166 2021-10-04      0\n",
       "4      166 2021-10-05      0"
      ]
     },
     "execution_count": 7,
     "metadata": {},
     "output_type": "execute_result"
    }
   ],
   "source": [
    "df_val_ts = pd.read_csv(f'data/val_timeseries_by_site/site_{SITE_ID}.csv')\n",
    "df_val_ts['date'] = pd.to_datetime(df_val_ts['date'])\n",
    "df_val_ts.head()"
   ]
  },
  {
   "cell_type": "markdown",
   "metadata": {
    "editable": true,
    "slideshow": {
     "slide_type": ""
    },
    "tags": []
   },
   "source": [
    "# Bursts"
   ]
  },
  {
   "cell_type": "code",
   "execution_count": 8,
   "metadata": {
    "editable": true,
    "slideshow": {
     "slide_type": ""
    },
    "tags": []
   },
   "outputs": [
    {
     "data": {
      "text/html": [
       "<div>\n",
       "<style scoped>\n",
       "    .dataframe tbody tr th:only-of-type {\n",
       "        vertical-align: middle;\n",
       "    }\n",
       "\n",
       "    .dataframe tbody tr th {\n",
       "        vertical-align: top;\n",
       "    }\n",
       "\n",
       "    .dataframe thead th {\n",
       "        text-align: right;\n",
       "    }\n",
       "</style>\n",
       "<table border=\"1\" class=\"dataframe\">\n",
       "  <thead>\n",
       "    <tr style=\"text-align: right;\">\n",
       "      <th></th>\n",
       "      <th>jpl_burst_id</th>\n",
       "      <th>geometry</th>\n",
       "      <th>n_acquisitions</th>\n",
       "      <th>site_id</th>\n",
       "    </tr>\n",
       "  </thead>\n",
       "  <tbody>\n",
       "    <tr>\n",
       "      <th>0</th>\n",
       "      <td>T005-008692-IW2</td>\n",
       "      <td>POLYGON ((-97.21446 17.86505, -97.21446 17.864...</td>\n",
       "      <td>104</td>\n",
       "      <td>72</td>\n",
       "    </tr>\n",
       "    <tr>\n",
       "      <th>1</th>\n",
       "      <td>T008-015865-IW2</td>\n",
       "      <td>POLYGON ((-1.50129 41.44183, -1.50130 41.44156...</td>\n",
       "      <td>101</td>\n",
       "      <td>150</td>\n",
       "    </tr>\n",
       "    <tr>\n",
       "      <th>2</th>\n",
       "      <td>T012-024584-IW1</td>\n",
       "      <td>POLYGON ((-103.78409 20.20832, -103.78409 20.2...</td>\n",
       "      <td>101</td>\n",
       "      <td>34</td>\n",
       "    </tr>\n",
       "    <tr>\n",
       "      <th>3</th>\n",
       "      <td>T014-028130-IW2</td>\n",
       "      <td>POLYGON ((37.01648 35.59545, 37.01649 35.59518...</td>\n",
       "      <td>100</td>\n",
       "      <td>22</td>\n",
       "    </tr>\n",
       "    <tr>\n",
       "      <th>4</th>\n",
       "      <td>T014-028131-IW2</td>\n",
       "      <td>POLYGON ((36.98085 35.76145, 36.98085 35.76118...</td>\n",
       "      <td>38</td>\n",
       "      <td>22</td>\n",
       "    </tr>\n",
       "  </tbody>\n",
       "</table>\n",
       "</div>"
      ],
      "text/plain": [
       "      jpl_burst_id                                           geometry  \\\n",
       "0  T005-008692-IW2  POLYGON ((-97.21446 17.86505, -97.21446 17.864...   \n",
       "1  T008-015865-IW2  POLYGON ((-1.50129 41.44183, -1.50130 41.44156...   \n",
       "2  T012-024584-IW1  POLYGON ((-103.78409 20.20832, -103.78409 20.2...   \n",
       "3  T014-028130-IW2  POLYGON ((37.01648 35.59545, 37.01649 35.59518...   \n",
       "4  T014-028131-IW2  POLYGON ((36.98085 35.76145, 36.98085 35.76118...   \n",
       "\n",
       "   n_acquisitions  site_id  \n",
       "0             104       72  \n",
       "1             101      150  \n",
       "2             101       34  \n",
       "3             100       22  \n",
       "4              38       22  "
      ]
     },
     "execution_count": 8,
     "metadata": {},
     "output_type": "execute_result"
    }
   ],
   "source": [
    "df_val_bursts = gpd.read_parquet('data/validation_bursts_v1_coverage_updated.parquet')\n",
    "df_val_bursts.head()"
   ]
  },
  {
   "cell_type": "code",
   "execution_count": 9,
   "metadata": {
    "editable": true,
    "slideshow": {
     "slide_type": ""
    },
    "tags": []
   },
   "outputs": [
    {
     "data": {
      "text/html": [
       "<div>\n",
       "<style scoped>\n",
       "    .dataframe tbody tr th:only-of-type {\n",
       "        vertical-align: middle;\n",
       "    }\n",
       "\n",
       "    .dataframe tbody tr th {\n",
       "        vertical-align: top;\n",
       "    }\n",
       "\n",
       "    .dataframe thead th {\n",
       "        text-align: right;\n",
       "    }\n",
       "</style>\n",
       "<table border=\"1\" class=\"dataframe\">\n",
       "  <thead>\n",
       "    <tr style=\"text-align: right;\">\n",
       "      <th></th>\n",
       "      <th>jpl_burst_id</th>\n",
       "      <th>geometry</th>\n",
       "      <th>n_acquisitions</th>\n",
       "      <th>site_id</th>\n",
       "    </tr>\n",
       "  </thead>\n",
       "  <tbody>\n",
       "    <tr>\n",
       "      <th>0</th>\n",
       "      <td>T042-088909-IW2</td>\n",
       "      <td>POLYGON ((-121.33869 39.04425, -121.33871 39.0...</td>\n",
       "      <td>101</td>\n",
       "      <td>166</td>\n",
       "    </tr>\n",
       "    <tr>\n",
       "      <th>1</th>\n",
       "      <td>T137-292347-IW2</td>\n",
       "      <td>POLYGON ((-120.07573 39.22670, -120.07574 39.2...</td>\n",
       "      <td>102</td>\n",
       "      <td>166</td>\n",
       "    </tr>\n",
       "  </tbody>\n",
       "</table>\n",
       "</div>"
      ],
      "text/plain": [
       "      jpl_burst_id                                           geometry  \\\n",
       "0  T042-088909-IW2  POLYGON ((-121.33869 39.04425, -121.33871 39.0...   \n",
       "1  T137-292347-IW2  POLYGON ((-120.07573 39.22670, -120.07574 39.2...   \n",
       "\n",
       "   n_acquisitions  site_id  \n",
       "0             101      166  \n",
       "1             102      166  "
      ]
     },
     "execution_count": 9,
     "metadata": {},
     "output_type": "execute_result"
    }
   ],
   "source": [
    "df_bursts_for_site = df_val_bursts[df_val_bursts.site_id == SITE_ID].reset_index(drop=True)\n",
    "df_bursts_for_site.head()"
   ]
  },
  {
   "cell_type": "markdown",
   "metadata": {
    "editable": true,
    "slideshow": {
     "slide_type": ""
    },
    "tags": []
   },
   "source": [
    "# RTC Data"
   ]
  },
  {
   "cell_type": "code",
   "execution_count": 10,
   "metadata": {
    "editable": true,
    "slideshow": {
     "slide_type": ""
    },
    "tags": []
   },
   "outputs": [],
   "source": [
    "BURST_ID = df_bursts_for_site.iloc[IDX_BURST].jpl_burst_id"
   ]
  },
  {
   "cell_type": "code",
   "execution_count": 11,
   "metadata": {},
   "outputs": [],
   "source": [
    "out = Path('out')\n",
    "site_burst_dir = out / f'site_{SITE_ID}' / BURST_ID\n",
    "site_burst_dir.mkdir(exist_ok=True, parents=True)"
   ]
  },
  {
   "cell_type": "code",
   "execution_count": 12,
   "metadata": {},
   "outputs": [
    {
     "data": {
      "text/plain": [
       "(PosixPath('out/site_166/T042-088909-IW2/rtc_ts'), True)"
      ]
     },
     "execution_count": 12,
     "metadata": {},
     "output_type": "execute_result"
    }
   ],
   "source": [
    "rtc_dir = site_burst_dir / 'rtc_ts'\n",
    "rtc_dir, rtc_dir.exists()"
   ]
  },
  {
   "cell_type": "code",
   "execution_count": 13,
   "metadata": {},
   "outputs": [],
   "source": [
    "vv_paths = list(rtc_dir.glob('*_VV.tif'))\n",
    "vh_paths = list(rtc_dir.glob('*_VH.tif'))\n",
    "\n",
    "pre_post_idx = json.load(open(rtc_dir / f'idx_delta{LOOKBACK_DELTA_DAYS}.json'))\n",
    "pre_post_dts = json.load(open(rtc_dir / f'dates_delta{LOOKBACK_DELTA_DAYS}.json'))"
   ]
  },
  {
   "cell_type": "markdown",
   "metadata": {},
   "source": [
    "# Load Data"
   ]
  },
  {
   "cell_type": "code",
   "execution_count": 14,
   "metadata": {},
   "outputs": [
    {
     "name": "stderr",
     "output_type": "stream",
     "text": [
      "100%|███████████████████████████████████████| 101/101 [00:00<00:00, 296.15it/s]\n",
      "100%|███████████████████████████████████████| 101/101 [00:00<00:00, 308.46it/s]\n"
     ]
    }
   ],
   "source": [
    "def open_one_arr(path: Path) -> np.ndarray:\n",
    "    with rasterio.open(path) as ds:\n",
    "        X = ds.read(1)\n",
    "    return X\n",
    "arrs_vv_d = list(map(open_one_arr, tqdm(vv_paths)))\n",
    "arrs_vh_d = list(map(open_one_arr, tqdm(vh_paths)))\n",
    "\n",
    "with rasterio.open(vv_paths[0]) as ds:\n",
    "    prof_ref = ds.profile"
   ]
  },
  {
   "cell_type": "markdown",
   "metadata": {},
   "source": [
    "# Get Val site and indices"
   ]
  },
  {
   "cell_type": "code",
   "execution_count": 15,
   "metadata": {
    "editable": true,
    "slideshow": {
     "slide_type": ""
    },
    "tags": []
   },
   "outputs": [],
   "source": [
    "geo = df_site.geometry[0]\n",
    "lon, lat = geo.x, geo.y"
   ]
  },
  {
   "cell_type": "code",
   "execution_count": 16,
   "metadata": {},
   "outputs": [
    {
     "data": {
      "text/plain": [
       "(677390.8459270559, 4313208.162202925)"
      ]
     },
     "execution_count": 16,
     "metadata": {},
     "output_type": "execute_result"
    }
   ],
   "source": [
    "utm_x, utm_y = get_utm_coords(prof_ref['crs'], lon, lat)\n",
    "utm_x, utm_y"
   ]
  },
  {
   "cell_type": "code",
   "execution_count": 17,
   "metadata": {},
   "outputs": [
    {
     "data": {
      "text/plain": [
       "(50, 50)"
      ]
     },
     "execution_count": 17,
     "metadata": {},
     "output_type": "execute_result"
    }
   ],
   "source": [
    "idx_y, idx_x = rowcol(prof_ref['transform'], utm_x, utm_y)\n",
    "idx_y, idx_x"
   ]
  },
  {
   "cell_type": "markdown",
   "metadata": {},
   "source": [
    "# Calculate Metrics"
   ]
  },
  {
   "cell_type": "code",
   "execution_count": 18,
   "metadata": {},
   "outputs": [],
   "source": [
    "def compute_distmetric(pre_vv=None,\n",
    "               pre_vh=None,\n",
    "               post_vv=None,\n",
    "               post_vh=None):\n",
    "    \"\"\"Pass in all data; use only what is necesary\"\"\"\n",
    "    if DISTMETRIC_NAME == 'transformer':\n",
    "        if any([len(pre) < 2 for pre in pre_vv + pre_vh]):\n",
    "            raise ValueError('pre images must be at least 2')\n",
    "        model = load_trained_transformer_model()\n",
    "        dist_ob = compute_transformer_zscore(model,\n",
    "                                             pre_vv,\n",
    "                                             pre_vh,\n",
    "                                             post_vv,\n",
    "                                             post_vh,\n",
    "                                             stride=2,\n",
    "                                             batch_size=128,\n",
    "                                            tqdm_enabled=False)\n",
    "        distance = dist_ob.dist\n",
    "    elif DISTMETRIC_NAME == 'mahalanobis_2d':\n",
    "        dist_ob = compute_mahalonobis_dist_2d(pre_vv,\n",
    "                                          pre_vh,\n",
    "                                          post_vv,\n",
    "                                          post_vh,\n",
    "                                          eig_lb=.01,\n",
    "                                          window_size=3,\n",
    "                                          logit_transformed=True)\n",
    "        distance = dist_ob.dist\n",
    "    elif DISTMETRIC_NAME == 'mahalanobis_vh':\n",
    "        dist_ob = compute_mahalonobis_dist_1d(\n",
    "                                          pre_vh,\n",
    "                                          post_vh,\n",
    "                                          sigma_lb=.01,\n",
    "                                          window_size=3,\n",
    "                                          logit_transformed=True)\n",
    "        distance = dist_ob.dist\n",
    "    elif DISTMETRIC_NAME == 'log_ratio_vh':\n",
    "        dist_ob = compute_log_ratio_decrease_metric(pre_vh,\n",
    "                                          post_vh,\n",
    "                                          window_size=1,\n",
    "                                          qual_stat_for_pre_imgs='median')\n",
    "        distance = dist_ob.dist\n",
    "\n",
    "    elif DISTMETRIC_NAME == 'mahalanobis_1d_max':\n",
    "        dist_ob_vh = compute_mahalonobis_dist_1d(\n",
    "                                          pre_vh,\n",
    "                                          post_vh,\n",
    "                                          sigma_lb=.01,\n",
    "                                          window_size=3,\n",
    "                                          logit_transformed=True)\n",
    "        distance_vh = dist_ob_vh.dist\n",
    "\n",
    "        dist_ob_vv = compute_mahalonobis_dist_1d(\n",
    "                                          pre_vv,\n",
    "                                          post_vv,\n",
    "                                          sigma_lb=.01,\n",
    "                                          window_size=3,\n",
    "                                          logit_transformed=True)\n",
    "        distance_vv = dist_ob_vv.dist\n",
    "        distance = np.maximum(distance_vv, distance_vh)\n",
    "\n",
    "    elif DISTMETRIC_NAME == 'cusum_prob_max':\n",
    "        dist_ob_vh = compute_prob_cusum_1d(\n",
    "                                          pre_vh,\n",
    "                                          post_vh)\n",
    "        distance_vh = dist_ob_vh.dist\n",
    "\n",
    "        dist_ob_vv = compute_prob_cusum_1d(\n",
    "                                          pre_vv,\n",
    "                                          post_vv)\n",
    "        distance_vv = dist_ob_vv.dist\n",
    "        distance = np.maximum(distance_vv, distance_vh)\n",
    "    elif DISTMETRIC_NAME == 'cusum_vh':\n",
    "        dist_ob = compute_cusum_1d(pre_vh,\n",
    "                                   post_vh)\n",
    "\n",
    "        distance = dist_ob.dist\n",
    "    \n",
    "    else:\n",
    "        raise NotImplementedError\n",
    "    return distance"
   ]
  },
  {
   "cell_type": "code",
   "execution_count": 19,
   "metadata": {},
   "outputs": [
    {
     "name": "stderr",
     "output_type": "stream",
     "text": [
      "100%|██████████████████████████████████████████| 38/38 [00:35<00:00,  1.08it/s]\n"
     ]
    }
   ],
   "source": [
    "metrics = [compute_distmetric([arrs_vv_d[k] for k in idxs['pre']],\n",
    "                              [arrs_vh_d[k] for k in idxs['pre']],\n",
    "                              arrs_vv_d[idxs['post'][0]],\n",
    "                              arrs_vh_d[idxs['post'][0]])\n",
    "          for idxs in tqdm(pre_post_idx)]"
   ]
  },
  {
   "cell_type": "code",
   "execution_count": 20,
   "metadata": {},
   "outputs": [],
   "source": [
    "metrics_at_site = [m[idx_y , idx_x] for m in metrics]\n",
    "mean_metrics_at_site = [np.nanmean(m[max(0, idx_y-1):idx_y+1 ,max(idx_x-1, 0):idx_x+1]) for m in metrics]\n",
    "\n",
    "post_dates = [pd.Timestamp(d['post'][0]) for d in pre_post_dts]"
   ]
  },
  {
   "cell_type": "code",
   "execution_count": 21,
   "metadata": {},
   "outputs": [
    {
     "data": {
      "text/html": [
       "<div>\n",
       "<style scoped>\n",
       "    .dataframe tbody tr th:only-of-type {\n",
       "        vertical-align: middle;\n",
       "    }\n",
       "\n",
       "    .dataframe tbody tr th {\n",
       "        vertical-align: top;\n",
       "    }\n",
       "\n",
       "    .dataframe thead th {\n",
       "        text-align: right;\n",
       "    }\n",
       "</style>\n",
       "<table border=\"1\" class=\"dataframe\">\n",
       "  <thead>\n",
       "    <tr style=\"text-align: right;\">\n",
       "      <th></th>\n",
       "      <th>site_id</th>\n",
       "      <th>burst_id</th>\n",
       "      <th>acq_date_post</th>\n",
       "      <th>metric</th>\n",
       "      <th>metric_90m</th>\n",
       "    </tr>\n",
       "  </thead>\n",
       "  <tbody>\n",
       "    <tr>\n",
       "      <th>0</th>\n",
       "      <td>166</td>\n",
       "      <td>T042-088909-IW2</td>\n",
       "      <td>2021-10-25 14:06:56</td>\n",
       "      <td>3.123179</td>\n",
       "      <td>3.029689</td>\n",
       "    </tr>\n",
       "    <tr>\n",
       "      <th>1</th>\n",
       "      <td>166</td>\n",
       "      <td>T042-088909-IW2</td>\n",
       "      <td>2021-10-31 14:07:41</td>\n",
       "      <td>0.364710</td>\n",
       "      <td>0.481025</td>\n",
       "    </tr>\n",
       "    <tr>\n",
       "      <th>2</th>\n",
       "      <td>166</td>\n",
       "      <td>T042-088909-IW2</td>\n",
       "      <td>2021-11-06 14:06:56</td>\n",
       "      <td>1.292921</td>\n",
       "      <td>1.119173</td>\n",
       "    </tr>\n",
       "    <tr>\n",
       "      <th>3</th>\n",
       "      <td>166</td>\n",
       "      <td>T042-088909-IW2</td>\n",
       "      <td>2021-11-12 14:07:41</td>\n",
       "      <td>1.979168</td>\n",
       "      <td>1.774207</td>\n",
       "    </tr>\n",
       "    <tr>\n",
       "      <th>4</th>\n",
       "      <td>166</td>\n",
       "      <td>T042-088909-IW2</td>\n",
       "      <td>2021-11-18 14:06:55</td>\n",
       "      <td>1.522245</td>\n",
       "      <td>1.444476</td>\n",
       "    </tr>\n",
       "    <tr>\n",
       "      <th>5</th>\n",
       "      <td>166</td>\n",
       "      <td>T042-088909-IW2</td>\n",
       "      <td>2021-11-24 14:07:41</td>\n",
       "      <td>0.712972</td>\n",
       "      <td>0.653571</td>\n",
       "    </tr>\n",
       "    <tr>\n",
       "      <th>6</th>\n",
       "      <td>166</td>\n",
       "      <td>T042-088909-IW2</td>\n",
       "      <td>2021-11-30 14:06:55</td>\n",
       "      <td>0.078969</td>\n",
       "      <td>0.311487</td>\n",
       "    </tr>\n",
       "    <tr>\n",
       "      <th>7</th>\n",
       "      <td>166</td>\n",
       "      <td>T042-088909-IW2</td>\n",
       "      <td>2021-12-06 14:07:40</td>\n",
       "      <td>0.817329</td>\n",
       "      <td>0.766823</td>\n",
       "    </tr>\n",
       "    <tr>\n",
       "      <th>8</th>\n",
       "      <td>166</td>\n",
       "      <td>T042-088909-IW2</td>\n",
       "      <td>2021-12-12 14:06:54</td>\n",
       "      <td>0.185845</td>\n",
       "      <td>0.318827</td>\n",
       "    </tr>\n",
       "    <tr>\n",
       "      <th>9</th>\n",
       "      <td>166</td>\n",
       "      <td>T042-088909-IW2</td>\n",
       "      <td>2021-12-18 14:07:40</td>\n",
       "      <td>1.578055</td>\n",
       "      <td>1.495618</td>\n",
       "    </tr>\n",
       "  </tbody>\n",
       "</table>\n",
       "</div>"
      ],
      "text/plain": [
       "   site_id         burst_id       acq_date_post    metric  metric_90m\n",
       "0      166  T042-088909-IW2 2021-10-25 14:06:56  3.123179    3.029689\n",
       "1      166  T042-088909-IW2 2021-10-31 14:07:41  0.364710    0.481025\n",
       "2      166  T042-088909-IW2 2021-11-06 14:06:56  1.292921    1.119173\n",
       "3      166  T042-088909-IW2 2021-11-12 14:07:41  1.979168    1.774207\n",
       "4      166  T042-088909-IW2 2021-11-18 14:06:55  1.522245    1.444476\n",
       "5      166  T042-088909-IW2 2021-11-24 14:07:41  0.712972    0.653571\n",
       "6      166  T042-088909-IW2 2021-11-30 14:06:55  0.078969    0.311487\n",
       "7      166  T042-088909-IW2 2021-12-06 14:07:40  0.817329    0.766823\n",
       "8      166  T042-088909-IW2 2021-12-12 14:06:54  0.185845    0.318827\n",
       "9      166  T042-088909-IW2 2021-12-18 14:07:40  1.578055    1.495618"
      ]
     },
     "execution_count": 21,
     "metadata": {},
     "output_type": "execute_result"
    }
   ],
   "source": [
    "n = len(post_dates)\n",
    "assert(n == len(metrics_at_site))\n",
    "df_ts = pd.DataFrame({'site_id': [SITE_ID] * n,\n",
    "                      'burst_id': [BURST_ID] * n,\n",
    "                      'acq_date_post': post_dates,\n",
    "                      'metric': metrics_at_site,\n",
    "                      'metric_90m': mean_metrics_at_site})\n",
    "# Ensures that there are no additional dates beyond val time period\n",
    "ind = (df_ts.acq_date_post < pd.Timestamp('2022-10-01')) & (df_ts.acq_date_post >= pd.Timestamp('2021-10-01'))\n",
    "df_ts = df_ts[ind].reset_index(drop=True)\n",
    "df_ts.head(10)"
   ]
  },
  {
   "cell_type": "code",
   "execution_count": 22,
   "metadata": {},
   "outputs": [
    {
     "data": {
      "text/html": [
       "<div>\n",
       "<style scoped>\n",
       "    .dataframe tbody tr th:only-of-type {\n",
       "        vertical-align: middle;\n",
       "    }\n",
       "\n",
       "    .dataframe tbody tr th {\n",
       "        vertical-align: top;\n",
       "    }\n",
       "\n",
       "    .dataframe thead th {\n",
       "        text-align: right;\n",
       "    }\n",
       "</style>\n",
       "<table border=\"1\" class=\"dataframe\">\n",
       "  <thead>\n",
       "    <tr style=\"text-align: right;\">\n",
       "      <th></th>\n",
       "      <th>site_id</th>\n",
       "      <th>date</th>\n",
       "      <th>obs</th>\n",
       "    </tr>\n",
       "  </thead>\n",
       "  <tbody>\n",
       "    <tr>\n",
       "      <th>0</th>\n",
       "      <td>166</td>\n",
       "      <td>2021-10-01</td>\n",
       "      <td>noObs</td>\n",
       "    </tr>\n",
       "    <tr>\n",
       "      <th>1</th>\n",
       "      <td>166</td>\n",
       "      <td>2021-10-02</td>\n",
       "      <td>noObs</td>\n",
       "    </tr>\n",
       "    <tr>\n",
       "      <th>2</th>\n",
       "      <td>166</td>\n",
       "      <td>2021-10-03</td>\n",
       "      <td>0</td>\n",
       "    </tr>\n",
       "    <tr>\n",
       "      <th>3</th>\n",
       "      <td>166</td>\n",
       "      <td>2021-10-04</td>\n",
       "      <td>0</td>\n",
       "    </tr>\n",
       "    <tr>\n",
       "      <th>4</th>\n",
       "      <td>166</td>\n",
       "      <td>2021-10-05</td>\n",
       "      <td>0</td>\n",
       "    </tr>\n",
       "  </tbody>\n",
       "</table>\n",
       "</div>"
      ],
      "text/plain": [
       "   site_id       date    obs\n",
       "0      166 2021-10-01  noObs\n",
       "1      166 2021-10-02  noObs\n",
       "2      166 2021-10-03      0\n",
       "3      166 2021-10-04      0\n",
       "4      166 2021-10-05      0"
      ]
     },
     "execution_count": 22,
     "metadata": {},
     "output_type": "execute_result"
    }
   ],
   "source": [
    "df_val_ts.head()"
   ]
  },
  {
   "cell_type": "code",
   "execution_count": 23,
   "metadata": {},
   "outputs": [],
   "source": [
    "def get_val_obs(acq: pd.Timestamp):\n",
    "    ind = df_val_ts.date == str(acq.date())\n",
    "    assert (ind.sum() == 1)\n",
    "    obs = df_val_ts[ind].obs.tolist()[0]\n",
    "    return obs"
   ]
  },
  {
   "cell_type": "code",
   "execution_count": 38,
   "metadata": {},
   "outputs": [
    {
     "data": {
      "text/html": [
       "<div>\n",
       "<style scoped>\n",
       "    .dataframe tbody tr th:only-of-type {\n",
       "        vertical-align: middle;\n",
       "    }\n",
       "\n",
       "    .dataframe tbody tr th {\n",
       "        vertical-align: top;\n",
       "    }\n",
       "\n",
       "    .dataframe thead th {\n",
       "        text-align: right;\n",
       "    }\n",
       "</style>\n",
       "<table border=\"1\" class=\"dataframe\">\n",
       "  <thead>\n",
       "    <tr style=\"text-align: right;\">\n",
       "      <th></th>\n",
       "      <th>site_id</th>\n",
       "      <th>burst_id</th>\n",
       "      <th>acq_date_post</th>\n",
       "      <th>metric</th>\n",
       "      <th>metric_90m</th>\n",
       "      <th>val_obs</th>\n",
       "      <th>val_change_conservative</th>\n",
       "      <th>val_change_aggressive</th>\n",
       "      <th>rtc_changes_aggressive</th>\n",
       "      <th>rtc_changes_conservative</th>\n",
       "    </tr>\n",
       "  </thead>\n",
       "  <tbody>\n",
       "    <tr>\n",
       "      <th>0</th>\n",
       "      <td>166</td>\n",
       "      <td>T042-088909-IW2</td>\n",
       "      <td>2021-10-25 14:06:56</td>\n",
       "      <td>3.123179</td>\n",
       "      <td>3.029689</td>\n",
       "      <td>255</td>\n",
       "      <td>255</td>\n",
       "      <td>255</td>\n",
       "      <td>1</td>\n",
       "      <td>0</td>\n",
       "    </tr>\n",
       "    <tr>\n",
       "      <th>1</th>\n",
       "      <td>166</td>\n",
       "      <td>T042-088909-IW2</td>\n",
       "      <td>2021-10-31 14:07:41</td>\n",
       "      <td>0.364710</td>\n",
       "      <td>0.481025</td>\n",
       "      <td>255</td>\n",
       "      <td>255</td>\n",
       "      <td>255</td>\n",
       "      <td>0</td>\n",
       "      <td>0</td>\n",
       "    </tr>\n",
       "    <tr>\n",
       "      <th>2</th>\n",
       "      <td>166</td>\n",
       "      <td>T042-088909-IW2</td>\n",
       "      <td>2021-11-06 14:06:56</td>\n",
       "      <td>1.292921</td>\n",
       "      <td>1.119173</td>\n",
       "      <td>255</td>\n",
       "      <td>255</td>\n",
       "      <td>255</td>\n",
       "      <td>0</td>\n",
       "      <td>0</td>\n",
       "    </tr>\n",
       "    <tr>\n",
       "      <th>3</th>\n",
       "      <td>166</td>\n",
       "      <td>T042-088909-IW2</td>\n",
       "      <td>2021-11-12 14:07:41</td>\n",
       "      <td>1.979168</td>\n",
       "      <td>1.774207</td>\n",
       "      <td>255</td>\n",
       "      <td>255</td>\n",
       "      <td>255</td>\n",
       "      <td>0</td>\n",
       "      <td>0</td>\n",
       "    </tr>\n",
       "    <tr>\n",
       "      <th>4</th>\n",
       "      <td>166</td>\n",
       "      <td>T042-088909-IW2</td>\n",
       "      <td>2021-11-18 14:06:55</td>\n",
       "      <td>1.522245</td>\n",
       "      <td>1.444476</td>\n",
       "      <td>255</td>\n",
       "      <td>255</td>\n",
       "      <td>255</td>\n",
       "      <td>0</td>\n",
       "      <td>0</td>\n",
       "    </tr>\n",
       "  </tbody>\n",
       "</table>\n",
       "</div>"
      ],
      "text/plain": [
       "   site_id         burst_id       acq_date_post    metric  metric_90m val_obs  \\\n",
       "0      166  T042-088909-IW2 2021-10-25 14:06:56  3.123179    3.029689     255   \n",
       "1      166  T042-088909-IW2 2021-10-31 14:07:41  0.364710    0.481025     255   \n",
       "2      166  T042-088909-IW2 2021-11-06 14:06:56  1.292921    1.119173     255   \n",
       "3      166  T042-088909-IW2 2021-11-12 14:07:41  1.979168    1.774207     255   \n",
       "4      166  T042-088909-IW2 2021-11-18 14:06:55  1.522245    1.444476     255   \n",
       "\n",
       "   val_change_conservative  val_change_aggressive  rtc_changes_aggressive  \\\n",
       "0                      255                    255                       1   \n",
       "1                      255                    255                       0   \n",
       "2                      255                    255                       0   \n",
       "3                      255                    255                       0   \n",
       "4                      255                    255                       0   \n",
       "\n",
       "   rtc_changes_conservative  \n",
       "0                         0  \n",
       "1                         0  \n",
       "2                         0  \n",
       "3                         0  \n",
       "4                         0  "
      ]
     },
     "execution_count": 38,
     "metadata": {},
     "output_type": "execute_result"
    }
   ],
   "source": [
    "df_ts['val_obs'] = df_ts.acq_date_post.map(get_val_obs)\n",
    "df_ts['val_obs'] = df_ts['val_obs'].map(lambda obs: obs if obs != 'OCtot' else 'OCmaj')\n",
    "df_ts['val_obs'] = df_ts['val_obs'].map(lambda obs: obs if obs not in [0, '0'] else 255)\n",
    "df_ts.head()"
   ]
  },
  {
   "cell_type": "code",
   "execution_count": 39,
   "metadata": {},
   "outputs": [
    {
     "data": {
      "text/plain": [
       "0          255\n",
       "1          255\n",
       "2          255\n",
       "3          255\n",
       "4          255\n",
       "5          255\n",
       "6          255\n",
       "7        noObs\n",
       "8        noObs\n",
       "9        noObs\n",
       "10       noObs\n",
       "11       noObs\n",
       "12    noChange\n",
       "13    noChange\n",
       "14    noChange\n",
       "15    noChange\n",
       "16    noChange\n",
       "17    noChange\n",
       "18    noChange\n",
       "19    noChange\n",
       "20    noChange\n",
       "21    noChange\n",
       "22    noChange\n",
       "23    noChange\n",
       "24    noChange\n",
       "25    noChange\n",
       "26    noChange\n",
       "27    noChange\n",
       "28    noChange\n",
       "29    noChange\n",
       "30    noChange\n",
       "31       noObs\n",
       "32    noChange\n",
       "Name: val_obs, dtype: object"
      ]
     },
     "execution_count": 39,
     "metadata": {},
     "output_type": "execute_result"
    }
   ],
   "source": [
    "df_ts.val_obs"
   ]
  },
  {
   "cell_type": "code",
   "execution_count": 26,
   "metadata": {},
   "outputs": [
    {
     "data": {
      "text/html": [
       "<div>\n",
       "<style scoped>\n",
       "    .dataframe tbody tr th:only-of-type {\n",
       "        vertical-align: middle;\n",
       "    }\n",
       "\n",
       "    .dataframe tbody tr th {\n",
       "        vertical-align: top;\n",
       "    }\n",
       "\n",
       "    .dataframe thead th {\n",
       "        text-align: right;\n",
       "    }\n",
       "</style>\n",
       "<table border=\"1\" class=\"dataframe\">\n",
       "  <thead>\n",
       "    <tr style=\"text-align: right;\">\n",
       "      <th></th>\n",
       "      <th>site_id</th>\n",
       "      <th>burst_id</th>\n",
       "      <th>acq_date_post</th>\n",
       "      <th>metric</th>\n",
       "      <th>metric_90m</th>\n",
       "      <th>val_obs</th>\n",
       "      <th>val_change_conservative</th>\n",
       "      <th>val_change_aggressive</th>\n",
       "    </tr>\n",
       "  </thead>\n",
       "  <tbody>\n",
       "    <tr>\n",
       "      <th>0</th>\n",
       "      <td>166</td>\n",
       "      <td>T042-088909-IW2</td>\n",
       "      <td>2021-10-25 14:06:56</td>\n",
       "      <td>3.123179</td>\n",
       "      <td>3.029689</td>\n",
       "      <td>0</td>\n",
       "      <td>255</td>\n",
       "      <td>255</td>\n",
       "    </tr>\n",
       "    <tr>\n",
       "      <th>1</th>\n",
       "      <td>166</td>\n",
       "      <td>T042-088909-IW2</td>\n",
       "      <td>2021-10-31 14:07:41</td>\n",
       "      <td>0.364710</td>\n",
       "      <td>0.481025</td>\n",
       "      <td>0</td>\n",
       "      <td>255</td>\n",
       "      <td>255</td>\n",
       "    </tr>\n",
       "    <tr>\n",
       "      <th>2</th>\n",
       "      <td>166</td>\n",
       "      <td>T042-088909-IW2</td>\n",
       "      <td>2021-11-06 14:06:56</td>\n",
       "      <td>1.292921</td>\n",
       "      <td>1.119173</td>\n",
       "      <td>0</td>\n",
       "      <td>255</td>\n",
       "      <td>255</td>\n",
       "    </tr>\n",
       "    <tr>\n",
       "      <th>3</th>\n",
       "      <td>166</td>\n",
       "      <td>T042-088909-IW2</td>\n",
       "      <td>2021-11-12 14:07:41</td>\n",
       "      <td>1.979168</td>\n",
       "      <td>1.774207</td>\n",
       "      <td>0</td>\n",
       "      <td>255</td>\n",
       "      <td>255</td>\n",
       "    </tr>\n",
       "    <tr>\n",
       "      <th>4</th>\n",
       "      <td>166</td>\n",
       "      <td>T042-088909-IW2</td>\n",
       "      <td>2021-11-18 14:06:55</td>\n",
       "      <td>1.522245</td>\n",
       "      <td>1.444476</td>\n",
       "      <td>0</td>\n",
       "      <td>255</td>\n",
       "      <td>255</td>\n",
       "    </tr>\n",
       "  </tbody>\n",
       "</table>\n",
       "</div>"
      ],
      "text/plain": [
       "   site_id         burst_id       acq_date_post    metric  metric_90m val_obs  \\\n",
       "0      166  T042-088909-IW2 2021-10-25 14:06:56  3.123179    3.029689       0   \n",
       "1      166  T042-088909-IW2 2021-10-31 14:07:41  0.364710    0.481025       0   \n",
       "2      166  T042-088909-IW2 2021-11-06 14:06:56  1.292921    1.119173       0   \n",
       "3      166  T042-088909-IW2 2021-11-12 14:07:41  1.979168    1.774207       0   \n",
       "4      166  T042-088909-IW2 2021-11-18 14:06:55  1.522245    1.444476       0   \n",
       "\n",
       "   val_change_conservative  val_change_aggressive  \n",
       "0                      255                    255  \n",
       "1                      255                    255  \n",
       "2                      255                    255  \n",
       "3                      255                    255  \n",
       "4                      255                    255  "
      ]
     },
     "execution_count": 26,
     "metadata": {},
     "output_type": "execute_result"
    }
   ],
   "source": [
    "def mark_val_change(obs:str, conservative=True):\n",
    "    change_vals = ['VLmaj', 'OCmaj', 'OCtotal']\n",
    "    no_change_vals = ['noChange']\n",
    "    if not conservative:\n",
    "        change_vals += ['VLmin', 'OCmin']\n",
    "    else:\n",
    "        no_change_vals += ['VLmin', 'OCmin']\n",
    "    \n",
    "    if obs in change_vals:\n",
    "        return 1\n",
    "    elif obs in no_change_vals:\n",
    "        return 0\n",
    "    elif obs in ['noObs', '0', 0]:\n",
    "        return 255\n",
    "    else:\n",
    "        print(obs)\n",
    "        raise ValueError\n",
    "\n",
    "df_ts['val_change_conservative'] = df_ts.val_obs.map(mark_val_change)\n",
    "df_ts['val_change_aggressive'] = df_ts.val_obs.map(lambda obs: mark_val_change(obs, conservative=False))\n",
    "\n",
    "df_ts.head()"
   ]
  },
  {
   "cell_type": "code",
   "execution_count": 27,
   "metadata": {},
   "outputs": [
    {
     "data": {
      "text/plain": [
       "Text(0.5, 0, 'dt')"
      ]
     },
     "execution_count": 27,
     "metadata": {},
     "output_type": "execute_result"
    },
    {
     "data": {
      "image/png": "[encoded data removed]",
      "text/plain": [
       "<Figure size 640x480 with 1 Axes>"
      ]
     },
     "metadata": {},
     "output_type": "display_data"
    }
   ],
   "source": [
    "plt.plot(df_ts.acq_date_post, df_ts.metric)\n",
    "plt.ylabel('metric')\n",
    "plt.xlabel('dt')"
   ]
  },
  {
   "cell_type": "markdown",
   "metadata": {},
   "source": [
    "# Changes"
   ]
  },
  {
   "cell_type": "code",
   "execution_count": 28,
   "metadata": {},
   "outputs": [],
   "source": [
    "def get_threshold():\n",
    "    \"\"\"Pass in all data; use only what is necesary\"\"\"\n",
    "    if DISTMETRIC_NAME == 'transformer':\n",
    "        T_aggressive = 2.5\n",
    "        T_conservative = 4.5\n",
    "    elif DISTMETRIC_NAME == 'mahalanobis_2d':\n",
    "        T_aggressive = 2.5\n",
    "        T_conservative = 4.5\n",
    "    elif DISTMETRIC_NAME == 'mahalanobis_vh':\n",
    "        T_aggressive = 2.5\n",
    "        T_conservative = 4.5\n",
    "    elif DISTMETRIC_NAME == 'log_ratio_vh':\n",
    "        T_aggressive = 1\n",
    "        T_conservative = 2\n",
    "\n",
    "    elif DISTMETRIC_NAME == 'mahalanobis_1d_max':\n",
    "        T_aggressive = 2.5\n",
    "        T_conservative = 4.5\n",
    "\n",
    "    elif DISTMETRIC_NAME == 'cusum_prob_max':\n",
    "        T_aggressive = .9\n",
    "        T_conservative = .95\n",
    "    elif DISTMETRIC_NAME == 'cusum_vh':\n",
    "        T_aggressive = .02\n",
    "        T_conservative = .04\n",
    "    else:\n",
    "        raise NotImplementedError\n",
    "    return T_aggressive, T_conservative"
   ]
  },
  {
   "cell_type": "code",
   "execution_count": 29,
   "metadata": {},
   "outputs": [
    {
     "data": {
      "text/plain": [
       "(2.5, 4.5)"
      ]
     },
     "execution_count": 29,
     "metadata": {},
     "output_type": "execute_result"
    }
   ],
   "source": [
    "T_aggressive, T_conservative = get_threshold()\n",
    "T_aggressive, T_conservative"
   ]
  },
  {
   "cell_type": "code",
   "execution_count": 30,
   "metadata": {},
   "outputs": [],
   "source": [
    "changes_aggressive = [int(met > T_aggressive) if ~np.isnan(met) else 255 for met in df_ts.metric.tolist()]\n",
    "changes_conservative = [int(met > T_conservative) if ~np.isnan(met) else 255 for met in df_ts.metric.tolist()]"
   ]
  },
  {
   "cell_type": "code",
   "execution_count": 31,
   "metadata": {},
   "outputs": [
    {
     "data": {
      "text/html": [
       "<div>\n",
       "<style scoped>\n",
       "    .dataframe tbody tr th:only-of-type {\n",
       "        vertical-align: middle;\n",
       "    }\n",
       "\n",
       "    .dataframe tbody tr th {\n",
       "        vertical-align: top;\n",
       "    }\n",
       "\n",
       "    .dataframe thead th {\n",
       "        text-align: right;\n",
       "    }\n",
       "</style>\n",
       "<table border=\"1\" class=\"dataframe\">\n",
       "  <thead>\n",
       "    <tr style=\"text-align: right;\">\n",
       "      <th></th>\n",
       "      <th>site_id</th>\n",
       "      <th>burst_id</th>\n",
       "      <th>acq_date_post</th>\n",
       "      <th>metric</th>\n",
       "      <th>metric_90m</th>\n",
       "      <th>val_obs</th>\n",
       "      <th>val_change_conservative</th>\n",
       "      <th>val_change_aggressive</th>\n",
       "      <th>rtc_changes_aggressive</th>\n",
       "      <th>rtc_changes_conservative</th>\n",
       "    </tr>\n",
       "  </thead>\n",
       "  <tbody>\n",
       "    <tr>\n",
       "      <th>0</th>\n",
       "      <td>166</td>\n",
       "      <td>T042-088909-IW2</td>\n",
       "      <td>2021-10-25 14:06:56</td>\n",
       "      <td>3.123179</td>\n",
       "      <td>3.029689</td>\n",
       "      <td>0</td>\n",
       "      <td>255</td>\n",
       "      <td>255</td>\n",
       "      <td>1</td>\n",
       "      <td>0</td>\n",
       "    </tr>\n",
       "    <tr>\n",
       "      <th>1</th>\n",
       "      <td>166</td>\n",
       "      <td>T042-088909-IW2</td>\n",
       "      <td>2021-10-31 14:07:41</td>\n",
       "      <td>0.364710</td>\n",
       "      <td>0.481025</td>\n",
       "      <td>0</td>\n",
       "      <td>255</td>\n",
       "      <td>255</td>\n",
       "      <td>0</td>\n",
       "      <td>0</td>\n",
       "    </tr>\n",
       "    <tr>\n",
       "      <th>2</th>\n",
       "      <td>166</td>\n",
       "      <td>T042-088909-IW2</td>\n",
       "      <td>2021-11-06 14:06:56</td>\n",
       "      <td>1.292921</td>\n",
       "      <td>1.119173</td>\n",
       "      <td>0</td>\n",
       "      <td>255</td>\n",
       "      <td>255</td>\n",
       "      <td>0</td>\n",
       "      <td>0</td>\n",
       "    </tr>\n",
       "    <tr>\n",
       "      <th>3</th>\n",
       "      <td>166</td>\n",
       "      <td>T042-088909-IW2</td>\n",
       "      <td>2021-11-12 14:07:41</td>\n",
       "      <td>1.979168</td>\n",
       "      <td>1.774207</td>\n",
       "      <td>0</td>\n",
       "      <td>255</td>\n",
       "      <td>255</td>\n",
       "      <td>0</td>\n",
       "      <td>0</td>\n",
       "    </tr>\n",
       "    <tr>\n",
       "      <th>4</th>\n",
       "      <td>166</td>\n",
       "      <td>T042-088909-IW2</td>\n",
       "      <td>2021-11-18 14:06:55</td>\n",
       "      <td>1.522245</td>\n",
       "      <td>1.444476</td>\n",
       "      <td>0</td>\n",
       "      <td>255</td>\n",
       "      <td>255</td>\n",
       "      <td>0</td>\n",
       "      <td>0</td>\n",
       "    </tr>\n",
       "  </tbody>\n",
       "</table>\n",
       "</div>"
      ],
      "text/plain": [
       "   site_id         burst_id       acq_date_post    metric  metric_90m val_obs  \\\n",
       "0      166  T042-088909-IW2 2021-10-25 14:06:56  3.123179    3.029689       0   \n",
       "1      166  T042-088909-IW2 2021-10-31 14:07:41  0.364710    0.481025       0   \n",
       "2      166  T042-088909-IW2 2021-11-06 14:06:56  1.292921    1.119173       0   \n",
       "3      166  T042-088909-IW2 2021-11-12 14:07:41  1.979168    1.774207       0   \n",
       "4      166  T042-088909-IW2 2021-11-18 14:06:55  1.522245    1.444476       0   \n",
       "\n",
       "   val_change_conservative  val_change_aggressive  rtc_changes_aggressive  \\\n",
       "0                      255                    255                       1   \n",
       "1                      255                    255                       0   \n",
       "2                      255                    255                       0   \n",
       "3                      255                    255                       0   \n",
       "4                      255                    255                       0   \n",
       "\n",
       "   rtc_changes_conservative  \n",
       "0                         0  \n",
       "1                         0  \n",
       "2                         0  \n",
       "3                         0  \n",
       "4                         0  "
      ]
     },
     "execution_count": 31,
     "metadata": {},
     "output_type": "execute_result"
    }
   ],
   "source": [
    "df_ts['rtc_changes_aggressive'] = changes_aggressive\n",
    "df_ts['rtc_changes_conservative'] = changes_conservative\n",
    "df_ts.head()"
   ]
  },
  {
   "cell_type": "markdown",
   "metadata": {},
   "source": [
    "# Confirmed"
   ]
  },
  {
   "cell_type": "code",
   "execution_count": 32,
   "metadata": {},
   "outputs": [
    {
     "name": "stdout",
     "output_type": "stream",
     "text": [
      "[1, 255, 1, 1, 0, 1, 1, 255, 255, 1, 1, 1, 1, 255, 0, 0, 0, 0, 0, 0, 255, 0, 0, 0, 1, 1, 255, 1]\n"
     ]
    }
   ],
   "source": [
    "def confirm_changes(arr, min_length=3):\n",
    "    result = []\n",
    "    current_run = []\n",
    "    num_255 = 0\n",
    "\n",
    "    for num in arr:\n",
    "        if num == 1:\n",
    "            current_run.append(1)\n",
    "        elif num == 255:\n",
    "            if len(current_run) > 0 and num_255 < 2:\n",
    "                current_run.append(255)  # Allow up to 2 '255's between '1's\n",
    "                num_255 += 1\n",
    "            else:\n",
    "                # Too many '255's or no valid run of 1's to append to\n",
    "                if len([x for x in current_run if x == 1]) >= min_length:\n",
    "                    result.extend(current_run)\n",
    "                else:\n",
    "                    result.extend([0] * len(current_run))  # Replace short run with 0's\n",
    "                current_run = []\n",
    "                result.append(255)  # Keep the '255' in the result\n",
    "                num_255 = 0\n",
    "        else:  # num == 0\n",
    "            # A '0' means we finalize the current run\n",
    "            if len([x for x in current_run if x == 1]) >= min_length:\n",
    "                result.extend(current_run)\n",
    "            else:\n",
    "                result.extend([0] * len(current_run))  # Replace short run with 0's\n",
    "            result.append(0)  # Keep the '0' in the result\n",
    "            current_run = []\n",
    "            num_255 = 0\n",
    "\n",
    "    # Handle the last run of 1's and 255's after the loop\n",
    "    if len([x for x in current_run if x == 1]) >= min_length or (len(current_run) > 0 and num_255 <= 2):\n",
    "        result.extend(current_run)\n",
    "    else:\n",
    "        result.extend([0] * len(current_run))\n",
    "\n",
    "    return result\n",
    "\n",
    "# Example usage\n",
    "arr = [1, 255, 1, 1, 0, 1, 1, 255, 255, 1, 1, 1, 1, 255, 0, 0, 1, 1, 255, 255, 255, 1, 0, 0, 1, 1, 255, 1]\n",
    "result = confirm_changes(arr, min_length=3)\n",
    "print(result)"
   ]
  },
  {
   "cell_type": "code",
   "execution_count": 33,
   "metadata": {},
   "outputs": [
    {
     "name": "stdout",
     "output_type": "stream",
     "text": [
      "val_change_conservative\n",
      "val_change_aggressive\n",
      "rtc_changes_aggressive\n",
      "rtc_changes_conservative\n"
     ]
    }
   ],
   "source": [
    "df_ts_final = df_ts.copy()\n",
    "for c in df_ts.columns:\n",
    "    if 'change' in c:\n",
    "        print(c)\n",
    "        df_ts_final[c + '_confirmed'] = confirm_changes(df_ts[c].tolist())"
   ]
  },
  {
   "cell_type": "code",
   "execution_count": 34,
   "metadata": {},
   "outputs": [
    {
     "data": {
      "text/html": [
       "<div>\n",
       "<style scoped>\n",
       "    .dataframe tbody tr th:only-of-type {\n",
       "        vertical-align: middle;\n",
       "    }\n",
       "\n",
       "    .dataframe tbody tr th {\n",
       "        vertical-align: top;\n",
       "    }\n",
       "\n",
       "    .dataframe thead th {\n",
       "        text-align: right;\n",
       "    }\n",
       "</style>\n",
       "<table border=\"1\" class=\"dataframe\">\n",
       "  <thead>\n",
       "    <tr style=\"text-align: right;\">\n",
       "      <th></th>\n",
       "      <th>site_id</th>\n",
       "      <th>burst_id</th>\n",
       "      <th>acq_date_post</th>\n",
       "      <th>metric</th>\n",
       "      <th>metric_90m</th>\n",
       "      <th>val_obs</th>\n",
       "      <th>val_change_conservative</th>\n",
       "      <th>val_change_aggressive</th>\n",
       "      <th>rtc_changes_aggressive</th>\n",
       "      <th>rtc_changes_conservative</th>\n",
       "    </tr>\n",
       "  </thead>\n",
       "  <tbody>\n",
       "    <tr>\n",
       "      <th>0</th>\n",
       "      <td>166</td>\n",
       "      <td>T042-088909-IW2</td>\n",
       "      <td>2021-10-25 14:06:56</td>\n",
       "      <td>3.123179</td>\n",
       "      <td>3.029689</td>\n",
       "      <td>0</td>\n",
       "      <td>255</td>\n",
       "      <td>255</td>\n",
       "      <td>1</td>\n",
       "      <td>0</td>\n",
       "    </tr>\n",
       "    <tr>\n",
       "      <th>1</th>\n",
       "      <td>166</td>\n",
       "      <td>T042-088909-IW2</td>\n",
       "      <td>2021-10-31 14:07:41</td>\n",
       "      <td>0.364710</td>\n",
       "      <td>0.481025</td>\n",
       "      <td>0</td>\n",
       "      <td>255</td>\n",
       "      <td>255</td>\n",
       "      <td>0</td>\n",
       "      <td>0</td>\n",
       "    </tr>\n",
       "    <tr>\n",
       "      <th>2</th>\n",
       "      <td>166</td>\n",
       "      <td>T042-088909-IW2</td>\n",
       "      <td>2021-11-06 14:06:56</td>\n",
       "      <td>1.292921</td>\n",
       "      <td>1.119173</td>\n",
       "      <td>0</td>\n",
       "      <td>255</td>\n",
       "      <td>255</td>\n",
       "      <td>0</td>\n",
       "      <td>0</td>\n",
       "    </tr>\n",
       "    <tr>\n",
       "      <th>3</th>\n",
       "      <td>166</td>\n",
       "      <td>T042-088909-IW2</td>\n",
       "      <td>2021-11-12 14:07:41</td>\n",
       "      <td>1.979168</td>\n",
       "      <td>1.774207</td>\n",
       "      <td>0</td>\n",
       "      <td>255</td>\n",
       "      <td>255</td>\n",
       "      <td>0</td>\n",
       "      <td>0</td>\n",
       "    </tr>\n",
       "    <tr>\n",
       "      <th>4</th>\n",
       "      <td>166</td>\n",
       "      <td>T042-088909-IW2</td>\n",
       "      <td>2021-11-18 14:06:55</td>\n",
       "      <td>1.522245</td>\n",
       "      <td>1.444476</td>\n",
       "      <td>0</td>\n",
       "      <td>255</td>\n",
       "      <td>255</td>\n",
       "      <td>0</td>\n",
       "      <td>0</td>\n",
       "    </tr>\n",
       "  </tbody>\n",
       "</table>\n",
       "</div>"
      ],
      "text/plain": [
       "   site_id         burst_id       acq_date_post    metric  metric_90m val_obs  \\\n",
       "0      166  T042-088909-IW2 2021-10-25 14:06:56  3.123179    3.029689       0   \n",
       "1      166  T042-088909-IW2 2021-10-31 14:07:41  0.364710    0.481025       0   \n",
       "2      166  T042-088909-IW2 2021-11-06 14:06:56  1.292921    1.119173       0   \n",
       "3      166  T042-088909-IW2 2021-11-12 14:07:41  1.979168    1.774207       0   \n",
       "4      166  T042-088909-IW2 2021-11-18 14:06:55  1.522245    1.444476       0   \n",
       "\n",
       "   val_change_conservative  val_change_aggressive  rtc_changes_aggressive  \\\n",
       "0                      255                    255                       1   \n",
       "1                      255                    255                       0   \n",
       "2                      255                    255                       0   \n",
       "3                      255                    255                       0   \n",
       "4                      255                    255                       0   \n",
       "\n",
       "   rtc_changes_conservative  \n",
       "0                         0  \n",
       "1                         0  \n",
       "2                         0  \n",
       "3                         0  \n",
       "4                         0  "
      ]
     },
     "execution_count": 34,
     "metadata": {},
     "output_type": "execute_result"
    }
   ],
   "source": [
    "df_ts.head()"
   ]
  },
  {
   "cell_type": "markdown",
   "metadata": {},
   "source": [
    "# Reorder Columns"
   ]
  },
  {
   "cell_type": "code",
   "execution_count": 35,
   "metadata": {},
   "outputs": [
    {
     "data": {
      "text/html": [
       "<div>\n",
       "<style scoped>\n",
       "    .dataframe tbody tr th:only-of-type {\n",
       "        vertical-align: middle;\n",
       "    }\n",
       "\n",
       "    .dataframe tbody tr th {\n",
       "        vertical-align: top;\n",
       "    }\n",
       "\n",
       "    .dataframe thead th {\n",
       "        text-align: right;\n",
       "    }\n",
       "</style>\n",
       "<table border=\"1\" class=\"dataframe\">\n",
       "  <thead>\n",
       "    <tr style=\"text-align: right;\">\n",
       "      <th></th>\n",
       "      <th>site_id</th>\n",
       "      <th>burst_id</th>\n",
       "      <th>acq_date_post</th>\n",
       "      <th>metric</th>\n",
       "      <th>metric_90m</th>\n",
       "      <th>val_obs</th>\n",
       "      <th>rtc_changes_aggressive</th>\n",
       "      <th>rtc_changes_aggressive_confirmed</th>\n",
       "      <th>rtc_changes_conservative</th>\n",
       "      <th>rtc_changes_conservative_confirmed</th>\n",
       "      <th>val_change_aggressive</th>\n",
       "      <th>val_change_aggressive_confirmed</th>\n",
       "      <th>val_change_conservative</th>\n",
       "      <th>val_change_conservative_confirmed</th>\n",
       "    </tr>\n",
       "  </thead>\n",
       "  <tbody>\n",
       "    <tr>\n",
       "      <th>0</th>\n",
       "      <td>166</td>\n",
       "      <td>T042-088909-IW2</td>\n",
       "      <td>2021-10-25 14:06:56</td>\n",
       "      <td>3.123179</td>\n",
       "      <td>3.029689</td>\n",
       "      <td>0</td>\n",
       "      <td>1</td>\n",
       "      <td>0</td>\n",
       "      <td>0</td>\n",
       "      <td>0</td>\n",
       "      <td>255</td>\n",
       "      <td>255</td>\n",
       "      <td>255</td>\n",
       "      <td>255</td>\n",
       "    </tr>\n",
       "    <tr>\n",
       "      <th>1</th>\n",
       "      <td>166</td>\n",
       "      <td>T042-088909-IW2</td>\n",
       "      <td>2021-10-31 14:07:41</td>\n",
       "      <td>0.364710</td>\n",
       "      <td>0.481025</td>\n",
       "      <td>0</td>\n",
       "      <td>0</td>\n",
       "      <td>0</td>\n",
       "      <td>0</td>\n",
       "      <td>0</td>\n",
       "      <td>255</td>\n",
       "      <td>255</td>\n",
       "      <td>255</td>\n",
       "      <td>255</td>\n",
       "    </tr>\n",
       "    <tr>\n",
       "      <th>2</th>\n",
       "      <td>166</td>\n",
       "      <td>T042-088909-IW2</td>\n",
       "      <td>2021-11-06 14:06:56</td>\n",
       "      <td>1.292921</td>\n",
       "      <td>1.119173</td>\n",
       "      <td>0</td>\n",
       "      <td>0</td>\n",
       "      <td>0</td>\n",
       "      <td>0</td>\n",
       "      <td>0</td>\n",
       "      <td>255</td>\n",
       "      <td>255</td>\n",
       "      <td>255</td>\n",
       "      <td>255</td>\n",
       "    </tr>\n",
       "    <tr>\n",
       "      <th>3</th>\n",
       "      <td>166</td>\n",
       "      <td>T042-088909-IW2</td>\n",
       "      <td>2021-11-12 14:07:41</td>\n",
       "      <td>1.979168</td>\n",
       "      <td>1.774207</td>\n",
       "      <td>0</td>\n",
       "      <td>0</td>\n",
       "      <td>0</td>\n",
       "      <td>0</td>\n",
       "      <td>0</td>\n",
       "      <td>255</td>\n",
       "      <td>255</td>\n",
       "      <td>255</td>\n",
       "      <td>255</td>\n",
       "    </tr>\n",
       "    <tr>\n",
       "      <th>4</th>\n",
       "      <td>166</td>\n",
       "      <td>T042-088909-IW2</td>\n",
       "      <td>2021-11-18 14:06:55</td>\n",
       "      <td>1.522245</td>\n",
       "      <td>1.444476</td>\n",
       "      <td>0</td>\n",
       "      <td>0</td>\n",
       "      <td>0</td>\n",
       "      <td>0</td>\n",
       "      <td>0</td>\n",
       "      <td>255</td>\n",
       "      <td>255</td>\n",
       "      <td>255</td>\n",
       "      <td>255</td>\n",
       "    </tr>\n",
       "  </tbody>\n",
       "</table>\n",
       "</div>"
      ],
      "text/plain": [
       "   site_id         burst_id       acq_date_post    metric  metric_90m val_obs  \\\n",
       "0      166  T042-088909-IW2 2021-10-25 14:06:56  3.123179    3.029689       0   \n",
       "1      166  T042-088909-IW2 2021-10-31 14:07:41  0.364710    0.481025       0   \n",
       "2      166  T042-088909-IW2 2021-11-06 14:06:56  1.292921    1.119173       0   \n",
       "3      166  T042-088909-IW2 2021-11-12 14:07:41  1.979168    1.774207       0   \n",
       "4      166  T042-088909-IW2 2021-11-18 14:06:55  1.522245    1.444476       0   \n",
       "\n",
       "   rtc_changes_aggressive  rtc_changes_aggressive_confirmed  \\\n",
       "0                       1                                 0   \n",
       "1                       0                                 0   \n",
       "2                       0                                 0   \n",
       "3                       0                                 0   \n",
       "4                       0                                 0   \n",
       "\n",
       "   rtc_changes_conservative  rtc_changes_conservative_confirmed  \\\n",
       "0                         0                                   0   \n",
       "1                         0                                   0   \n",
       "2                         0                                   0   \n",
       "3                         0                                   0   \n",
       "4                         0                                   0   \n",
       "\n",
       "   val_change_aggressive  val_change_aggressive_confirmed  \\\n",
       "0                    255                              255   \n",
       "1                    255                              255   \n",
       "2                    255                              255   \n",
       "3                    255                              255   \n",
       "4                    255                              255   \n",
       "\n",
       "   val_change_conservative  val_change_conservative_confirmed  \n",
       "0                      255                                255  \n",
       "1                      255                                255  \n",
       "2                      255                                255  \n",
       "3                      255                                255  \n",
       "4                      255                                255  "
      ]
     },
     "execution_count": 35,
     "metadata": {},
     "output_type": "execute_result"
    }
   ],
   "source": [
    "change_columns = [c for c in df_ts_final.columns if 'change' in c]\n",
    "non_change_columns = [c for c in df_ts_final.columns if 'change' not in c]\n",
    "\n",
    "df_ts_final = df_ts_final[non_change_columns + sorted(change_columns)]\n",
    "df_ts_final.head()"
   ]
  },
  {
   "cell_type": "markdown",
   "metadata": {},
   "source": [
    "# Serialize"
   ]
  },
  {
   "cell_type": "code",
   "execution_count": 36,
   "metadata": {},
   "outputs": [
    {
     "data": {
      "text/plain": [
       "PosixPath('out/site_166/T042-088909-IW2/metrics_ts')"
      ]
     },
     "execution_count": 36,
     "metadata": {},
     "output_type": "execute_result"
    }
   ],
   "source": [
    "metric_dir = site_burst_dir / 'metrics_ts' \n",
    "metric_dir.mkdir(exist_ok=True, parents=True)\n",
    "metric_dir"
   ]
  },
  {
   "cell_type": "code",
   "execution_count": 37,
   "metadata": {},
   "outputs": [],
   "source": [
    "df_ts_final.to_parquet(metric_dir / f'{DISTMETRIC_NAME}.parquet')"
   ]
  }
 ],
 "metadata": {
  "kernelspec": {
   "display_name": "dist-s1",
   "language": "python",
   "name": "dist-s1"
  },
  "language_info": {
   "codemirror_mode": {
    "name": "ipython",
    "version": 3
   },
   "file_extension": ".py",
   "mimetype": "text/x-python",
   "name": "python",
   "nbconvert_exporter": "python",
   "pygments_lexer": "ipython3",
   "version": "3.12.4"
  }
 },
 "nbformat": 4,
 "nbformat_minor": 4
}
